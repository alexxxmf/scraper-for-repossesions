{
 "cells": [
  {
   "cell_type": "markdown",
   "metadata": {},
   "source": [
    "## 1. Problem Definition\n",
    "\n",
    "The following project has to do with the market for repossesed assets in the Spanish market. There is a public website that exposes current and past auctions.\n",
    "\n",
    "- There are several types of assets ranging from apartments to rustic/agricultural land.\n",
    "- Not all the data is exposed through the website so it's critical to have something to collect and save data before stops being exposed. It seems that auctions older than a certain date, are restricted to be shown.\n",
    "- There is no public API so scraping is required. Given there is no usage of new technology it is actually quite easy.\n",
    "\n",
    "The main goal of this project is having a tool that basically allows us to separate the chaff from the wheat. There is a significant amount of empty auctions and also non-empty ones with low quality assets so it's critical to have sort of accurate tool to have an initial filter so then we can perform a manual analysis of each opportunity without losing too much time on the bad deals.\n",
    "\n",
    "For this reason is why we want to focus on predicting two key aspects.\n",
    "- If a given auction is going to be empty or not.\n",
    "- If an auction is going to be disputed, what is the approximate amount we expect to bid in case we want to acquire the asset.\n"
   ]
  },
  {
   "cell_type": "markdown",
   "metadata": {},
   "source": [
    "## 2. Data gathering\n",
    "\n",
    "For this part we have relied on a library called Puppeteer developed by Google. It might feel as an overkill but at the moment of development it was the tool we were mostly used to so we opted for using this to be able to develop something quickly, not necesarily perfect.\n",
    "\n",
    "Initially we set our expectations quite high with regards to the amount of new data to be ready to be scraped from the auction site. Turns out we deeply overestimated this.\n",
    "Initially expectation was set at around 6000-10000 records per week. At the moment we are getting around 800-1200 per week.\n",
    "\n",
    "Given the nature of this auctions, they are tightly coupled to the economic cycle. As a special note is worth to take into account that during corona courts were collapsed with other type of processes and the market for auctions was quite dry.\n",
    "\n",
    "Some 3rd party services were used to get more meaningful data. Concretely, Google Geovode API was used to turn postal codes into coordinates so we can have some sort of continous variable for location purposes.\n"
   ]
  },
  {
   "cell_type": "markdown",
   "metadata": {},
   "source": [
    "## 3. Preparing Data for Consumption\n"
   ]
  },
  {
   "cell_type": "code",
   "execution_count": 59,
   "metadata": {},
   "outputs": [],
   "source": [
    "# Imports\n",
    "import json\n",
    "import pandas as pd\n",
    "import os\n",
    "import matplotlib.pyplot as plt\n",
    "import numpy as np"
   ]
  },
  {
   "cell_type": "code",
   "execution_count": 60,
   "metadata": {},
   "outputs": [],
   "source": [
    "# Constants\n",
    "ROOT_DIR = os.getcwd()\n",
    "PATH_TO_CSVS = os.path.join(ROOT_DIR, \"results/csv\")"
   ]
  },
  {
   "cell_type": "markdown",
   "metadata": {},
   "source": [
    "The following is an example on how the data looks like.\n",
    "\n",
    "In this case, it is a JSON file for a single auction item."
   ]
  },
  {
   "cell_type": "code",
   "execution_count": 61,
   "metadata": {
    "scrolled": false
   },
   "outputs": [
    {
     "name": "stdout",
     "output_type": "stream",
     "text": [
      "{\n",
      "    \"autoridad_gestora\": {\n",
      "        \"codigo\": \"R45860\",\n",
      "        \"correo_electronico\": \"subastas.castillalamancha@correo.aeat.es\",\n",
      "        \"descripcion\": \"U.R. SUBASTAS CASTILLA-MANCHA (AEAT)\",\n",
      "        \"direccion\": \"PZ TENDILLAS 1 ; 45002 TOLEDO\",\n",
      "        \"fax\": \"-\",\n",
      "        \"telefono\": \"925287719\"\n",
      "    },\n",
      "    \"bienes\": {\n",
      "        \"cargas\": \"0,00 \\u20ac\",\n",
      "        \"codigo_postal\": \"02002\",\n",
      "        \"descripcion\": \"URBANA. GARAJE EN CALLE ANGEL, N\\u00ba 19, PLANTA BAJA, SUPERFICIE UTIL, 10,13 M2. CUOTA DE PARTICIPACI\\u00d3N DE UN ENTERO Y SEIS CENTESIMAS POR CIENTO.\",\n",
      "        \"direccion\": \"CL ANGEL 19 0\",\n",
      "        \"idufir\": \"02011000745776\",\n",
      "        \"inscripcion_registral\": \"BIEN INSCRITO EN REGISTRO N\\u00daM. 4 DE ALBACETE TOMO: 2373 , FOLIO: 191 , LIBRO: 681. FINCA: 36248 , INSCRIPCI\\u00d3N: 1\",\n",
      "        \"localidad\": \"ALBACETE\",\n",
      "        \"provincia\": \"Albacete\",\n",
      "        \"referencia_catastral\": \"9961014WJ9196B0019UA\",\n",
      "        \"situacion_posesoria\": \"No consta\",\n",
      "        \"titulo_juridico\": \"PLENO DOMINIO\",\n",
      "        \"visitable\": \"No consta\"\n",
      "    },\n",
      "    \"informacion_general\": {\n",
      "        \"anuncio_boe\": \"BOE-B-2018-56530\",\n",
      "        \"fecha_de_conclusion\": \"20-12-2018 19:00:13 CET (ISO: 2018-12-20T19:00:13+01:00)\",\n",
      "        \"fecha_de_inicio\": \"30-11-2018 18:00:00 CET (ISO: 2018-11-30T18:00:00+01:00)\",\n",
      "        \"identificador\": \"SUB-AT-2018-18R4586001028\",\n",
      "        \"importe_del_deposito\": \"609,07 \\u20ac\",\n",
      "        \"lotes\": \"Sin lotes\",\n",
      "        \"puja_minima\": \"Sin puja m\\u00ednima\",\n",
      "        \"tasacion\": \"12.181,52 \\u20ac\",\n",
      "        \"tipo_de_subasta\": \"AGENCIA TRIBUTARIA\",\n",
      "        \"tramos_entre_pujas\": \"500,00 \\u20ac\",\n",
      "        \"valor_subasta\": \"12.181,52 \\u20ac\"\n",
      "    },\n",
      "    \"pujas\": {\n",
      "        \"pujaMaxima\": \"9.000,00 \\u20ac\"\n",
      "    },\n",
      "    \"relacionados\": {}\n",
      "}\n"
     ]
    }
   ],
   "source": [
    "path_to_example = os.path.join(ROOT_DIR, \"results/details/SUB-AT-2018-18R4586001028.json\")\n",
    "\n",
    "with open(path_to_example) as file:\n",
    "    jsonData = json.load(file)\n",
    "\n",
    "print(json.dumps(jsonData, indent=4, sort_keys=True)) "
   ]
  },
  {
   "cell_type": "code",
   "execution_count": 62,
   "metadata": {},
   "outputs": [],
   "source": [
    "def loading_auction_data(filename, path=PATH_TO_CSVS):\n",
    "    csv_path = os.path.join(path, filename)\n",
    "    return pd.read_csv(csv_path)\n",
    "\n",
    "auctions = loading_auction_data(\"allAuctions1.csv\")\n",
    "\n",
    "auctions_copy = auctions.copy(deep=True)"
   ]
  },
  {
   "cell_type": "code",
   "execution_count": 63,
   "metadata": {},
   "outputs": [
    {
     "name": "stdout",
     "output_type": "stream",
     "text": [
      "<class 'pandas.core.frame.DataFrame'>\n",
      "RangeIndex: 8608 entries, 0 to 8607\n",
      "Data columns (total 7 columns):\n",
      "subId                   8608 non-null object\n",
      "estimatedValue          8608 non-null float64\n",
      "debtAmount              8608 non-null float64\n",
      "independentValuation    8608 non-null float64\n",
      "longitude               8462 non-null float64\n",
      "latitude                8462 non-null float64\n",
      "maxBid                  8608 non-null float64\n",
      "dtypes: float64(6), object(1)\n",
      "memory usage: 470.9+ KB\n"
     ]
    }
   ],
   "source": [
    "auctions_copy.info()"
   ]
  },
  {
   "cell_type": "code",
   "execution_count": 64,
   "metadata": {},
   "outputs": [
    {
     "data": {
      "text/html": [
       "<div>\n",
       "<style scoped>\n",
       "    .dataframe tbody tr th:only-of-type {\n",
       "        vertical-align: middle;\n",
       "    }\n",
       "\n",
       "    .dataframe tbody tr th {\n",
       "        vertical-align: top;\n",
       "    }\n",
       "\n",
       "    .dataframe thead th {\n",
       "        text-align: right;\n",
       "    }\n",
       "</style>\n",
       "<table border=\"1\" class=\"dataframe\">\n",
       "  <thead>\n",
       "    <tr style=\"text-align: right;\">\n",
       "      <th></th>\n",
       "      <th>subId</th>\n",
       "      <th>estimatedValue</th>\n",
       "      <th>debtAmount</th>\n",
       "      <th>independentValuation</th>\n",
       "      <th>longitude</th>\n",
       "      <th>latitude</th>\n",
       "      <th>maxBid</th>\n",
       "    </tr>\n",
       "  </thead>\n",
       "  <tbody>\n",
       "    <tr>\n",
       "      <th>7218</th>\n",
       "      <td>SUB-JV-2018-96382</td>\n",
       "      <td>593675.65</td>\n",
       "      <td>593675.65</td>\n",
       "      <td>0.00</td>\n",
       "      <td>-8.822494</td>\n",
       "      <td>42.150157</td>\n",
       "      <td>335557.48</td>\n",
       "    </tr>\n",
       "    <tr>\n",
       "      <th>765</th>\n",
       "      <td>SUB-JA-2016-2243</td>\n",
       "      <td>407405.70</td>\n",
       "      <td>299581.10</td>\n",
       "      <td>0.00</td>\n",
       "      <td>1.149697</td>\n",
       "      <td>41.079041</td>\n",
       "      <td>324300.00</td>\n",
       "    </tr>\n",
       "    <tr>\n",
       "      <th>1448</th>\n",
       "      <td>SUB-JA-2016-9268</td>\n",
       "      <td>132467.40</td>\n",
       "      <td>50185.85</td>\n",
       "      <td>0.00</td>\n",
       "      <td>0.609759</td>\n",
       "      <td>41.615787</td>\n",
       "      <td>66235.00</td>\n",
       "    </tr>\n",
       "    <tr>\n",
       "      <th>5758</th>\n",
       "      <td>SUB-JA-2019-134445</td>\n",
       "      <td>139396.30</td>\n",
       "      <td>79411.90</td>\n",
       "      <td>0.00</td>\n",
       "      <td>-0.535236</td>\n",
       "      <td>39.598956</td>\n",
       "      <td>100365.12</td>\n",
       "    </tr>\n",
       "    <tr>\n",
       "      <th>5805</th>\n",
       "      <td>SUB-JA-2019-134959</td>\n",
       "      <td>290000.00</td>\n",
       "      <td>63011.92</td>\n",
       "      <td>0.00</td>\n",
       "      <td>-1.482148</td>\n",
       "      <td>42.187231</td>\n",
       "      <td>52200.00</td>\n",
       "    </tr>\n",
       "    <tr>\n",
       "      <th>6897</th>\n",
       "      <td>SUB-JC-2018-115424</td>\n",
       "      <td>143613.68</td>\n",
       "      <td>0.01</td>\n",
       "      <td>0.00</td>\n",
       "      <td>-15.400951</td>\n",
       "      <td>27.954137</td>\n",
       "      <td>5744.54</td>\n",
       "    </tr>\n",
       "    <tr>\n",
       "      <th>6677</th>\n",
       "      <td>SUB-JA-2020-142897</td>\n",
       "      <td>333000.00</td>\n",
       "      <td>207686.75</td>\n",
       "      <td>333000.00</td>\n",
       "      <td>-3.687680</td>\n",
       "      <td>42.369115</td>\n",
       "      <td>217000.10</td>\n",
       "    </tr>\n",
       "    <tr>\n",
       "      <th>95</th>\n",
       "      <td>SUB-AT-2019-19R4686001323</td>\n",
       "      <td>24750.00</td>\n",
       "      <td>0.00</td>\n",
       "      <td>24750.00</td>\n",
       "      <td>-0.380721</td>\n",
       "      <td>39.474176</td>\n",
       "      <td>33000.00</td>\n",
       "    </tr>\n",
       "    <tr>\n",
       "      <th>6434</th>\n",
       "      <td>SUB-JA-2019-140874</td>\n",
       "      <td>139302.90</td>\n",
       "      <td>92859.45</td>\n",
       "      <td>0.00</td>\n",
       "      <td>-1.207326</td>\n",
       "      <td>38.051681</td>\n",
       "      <td>69651.75</td>\n",
       "    </tr>\n",
       "    <tr>\n",
       "      <th>4166</th>\n",
       "      <td>SUB-JA-2018-96846</td>\n",
       "      <td>350170.87</td>\n",
       "      <td>196768.07</td>\n",
       "      <td>350170.87</td>\n",
       "      <td>1.491823</td>\n",
       "      <td>41.321398</td>\n",
       "      <td>63000.00</td>\n",
       "    </tr>\n",
       "  </tbody>\n",
       "</table>\n",
       "</div>"
      ],
      "text/plain": [
       "                          subId  estimatedValue  debtAmount  \\\n",
       "7218          SUB-JV-2018-96382       593675.65   593675.65   \n",
       "765            SUB-JA-2016-2243       407405.70   299581.10   \n",
       "1448           SUB-JA-2016-9268       132467.40    50185.85   \n",
       "5758         SUB-JA-2019-134445       139396.30    79411.90   \n",
       "5805         SUB-JA-2019-134959       290000.00    63011.92   \n",
       "6897         SUB-JC-2018-115424       143613.68        0.01   \n",
       "6677         SUB-JA-2020-142897       333000.00   207686.75   \n",
       "95    SUB-AT-2019-19R4686001323        24750.00        0.00   \n",
       "6434         SUB-JA-2019-140874       139302.90    92859.45   \n",
       "4166          SUB-JA-2018-96846       350170.87   196768.07   \n",
       "\n",
       "      independentValuation  longitude   latitude     maxBid  \n",
       "7218                  0.00  -8.822494  42.150157  335557.48  \n",
       "765                   0.00   1.149697  41.079041  324300.00  \n",
       "1448                  0.00   0.609759  41.615787   66235.00  \n",
       "5758                  0.00  -0.535236  39.598956  100365.12  \n",
       "5805                  0.00  -1.482148  42.187231   52200.00  \n",
       "6897                  0.00 -15.400951  27.954137    5744.54  \n",
       "6677             333000.00  -3.687680  42.369115  217000.10  \n",
       "95                24750.00  -0.380721  39.474176   33000.00  \n",
       "6434                  0.00  -1.207326  38.051681   69651.75  \n",
       "4166             350170.87   1.491823  41.321398   63000.00  "
      ]
     },
     "execution_count": 64,
     "metadata": {},
     "output_type": "execute_result"
    }
   ],
   "source": [
    "auctions_copy.sample(10)"
   ]
  },
  {
   "cell_type": "code",
   "execution_count": 65,
   "metadata": {},
   "outputs": [
    {
     "name": "stdout",
     "output_type": "stream",
     "text": [
      "146\n"
     ]
    }
   ],
   "source": [
    "print(auctions_copy[\"longitude\"].isnull().sum())\n",
    "# print(auctions_copy[\"latitude\"].isnull().sum())\n",
    "auctions_copy = auctions_copy.drop(auctions_copy.loc[auctions[\"longitude\"].isnull()].index)\n",
    "auctions_copy = auctions_copy.drop(auctions_copy.loc[auctions[\"latitude\"].isnull()].index)\n"
   ]
  },
  {
   "cell_type": "code",
   "execution_count": 66,
   "metadata": {},
   "outputs": [
    {
     "name": "stdout",
     "output_type": "stream",
     "text": [
      "subId                   0\n",
      "estimatedValue          0\n",
      "debtAmount              0\n",
      "independentValuation    0\n",
      "longitude               0\n",
      "latitude                0\n",
      "maxBid                  0\n",
      "dtype: int64\n"
     ]
    }
   ],
   "source": [
    "print(auctions_copy.isnull().sum())"
   ]
  },
  {
   "cell_type": "markdown",
   "metadata": {},
   "source": [
    "Cleaning records based on lack of coordinates to locate the asset was decided to play a key part in this, so any record missing any of this two has to be cleaned. If we have at least the name of the town it belongs to through the google API we can get aproximate coordinates. If the town is not big enough this should suffice."
   ]
  },
  {
   "cell_type": "code",
   "execution_count": 77,
   "metadata": {},
   "outputs": [
    {
     "name": "stdout",
     "output_type": "stream",
     "text": [
      "7.013% of instances where estimatedValue and independentValuation diverge\n",
      "3.629% of instances where estimatedValue and independentValuation diverge significantly\n"
     ]
    },
    {
     "name": "stderr",
     "output_type": "stream",
     "text": [
      "/opt/anaconda3/envs/tf2/lib/python3.7/site-packages/ipykernel_launcher.py:6: SettingWithCopyWarning: \n",
      "A value is trying to be set on a copy of a slice from a DataFrame.\n",
      "Try using .loc[row_indexer,col_indexer] = value instead\n",
      "\n",
      "See the caveats in the documentation: http://pandas.pydata.org/pandas-docs/stable/user_guide/indexing.html#returning-a-view-versus-a-copy\n",
      "  \n"
     ]
    }
   ],
   "source": [
    "\n",
    "filtered_auctions = auctions_copy.loc[\n",
    "    ((auctions_copy[\"estimatedValue\"]) > 1000)\n",
    "    & (auctions_copy[\"independentValuation\"] > 1000)\n",
    "]\n",
    "filtered_auctions[\"estimatedValueToValuationRatio\"] = (filtered_auctions[\"estimatedValue\"]\n",
    "                                                       /filtered_auctions[\"independentValuation\"])\n",
    "\n",
    "auctions_with_discrepancies = filtered_auctions.loc[filtered_auctions[\"estimatedValueToValuationRatio\"] != 1.0]\n",
    "auctions_with_huge_discrepancies = filtered_auctions.loc[\n",
    "    (filtered_auctions[\"estimatedValueToValuationRatio\"] < 0.7) | (filtered_auctions[\"estimatedValueToValuationRatio\"] > 1.2)]\n",
    "\n",
    "rows_with_discrepancies = auctions_with_discrepancies.shape[0]\n",
    "rows_with_huge_discrepancies = auctions_with_huge_discrepancies.shape[0]\n",
    "percentage_of_discrepancies = round(rows_with_discrepancies/filtered_auctions.shape[0] * 100, 3)\n",
    "percentage_of_huge_discrepancies = round(rows_with_huge_discrepancies/filtered_auctions.shape[0] * 100, 3)\n",
    "\n",
    "print(f'{percentage_of_discrepancies}% of instances where estimatedValue and independentValuation diverge')\n",
    "print(f'{percentage_of_huge_discrepancies}% of instances where estimatedValue and independentValuation diverge significantly')"
   ]
  },
  {
   "cell_type": "code",
   "execution_count": 73,
   "metadata": {},
   "outputs": [
    {
     "data": {
      "text/html": [
       "<div>\n",
       "<style scoped>\n",
       "    .dataframe tbody tr th:only-of-type {\n",
       "        vertical-align: middle;\n",
       "    }\n",
       "\n",
       "    .dataframe tbody tr th {\n",
       "        vertical-align: top;\n",
       "    }\n",
       "\n",
       "    .dataframe thead th {\n",
       "        text-align: right;\n",
       "    }\n",
       "</style>\n",
       "<table border=\"1\" class=\"dataframe\">\n",
       "  <thead>\n",
       "    <tr style=\"text-align: right;\">\n",
       "      <th></th>\n",
       "      <th>subId</th>\n",
       "      <th>estimatedValue</th>\n",
       "      <th>debtAmount</th>\n",
       "      <th>independentValuation</th>\n",
       "      <th>longitude</th>\n",
       "      <th>latitude</th>\n",
       "      <th>maxBid</th>\n",
       "      <th>estimatedValueToValuationRatio</th>\n",
       "    </tr>\n",
       "  </thead>\n",
       "  <tbody>\n",
       "    <tr>\n",
       "      <th>957</th>\n",
       "      <td>SUB-JA-2016-3043</td>\n",
       "      <td>63733.00</td>\n",
       "      <td>225628.88</td>\n",
       "      <td>31866.50</td>\n",
       "      <td>2.763047</td>\n",
       "      <td>39.520958</td>\n",
       "      <td>285000.00</td>\n",
       "      <td>2.000000e+00</td>\n",
       "    </tr>\n",
       "    <tr>\n",
       "      <th>959</th>\n",
       "      <td>SUB-JA-2016-3049</td>\n",
       "      <td>90110.24</td>\n",
       "      <td>111453.20</td>\n",
       "      <td>63077.17</td>\n",
       "      <td>-5.940971</td>\n",
       "      <td>37.701829</td>\n",
       "      <td>45057.00</td>\n",
       "      <td>1.428571e+00</td>\n",
       "    </tr>\n",
       "    <tr>\n",
       "      <th>1163</th>\n",
       "      <td>SUB-JA-2016-39170</td>\n",
       "      <td>6678000.00</td>\n",
       "      <td>2414052.87</td>\n",
       "      <td>0.01</td>\n",
       "      <td>-5.023447</td>\n",
       "      <td>36.476929</td>\n",
       "      <td>1200000.00</td>\n",
       "      <td>6.678000e+08</td>\n",
       "    </tr>\n",
       "    <tr>\n",
       "      <th>1294</th>\n",
       "      <td>SUB-JA-2016-4381</td>\n",
       "      <td>296987.65</td>\n",
       "      <td>255970.05</td>\n",
       "      <td>241287.00</td>\n",
       "      <td>1.511181</td>\n",
       "      <td>41.220761</td>\n",
       "      <td>5000.00</td>\n",
       "      <td>1.230848e+00</td>\n",
       "    </tr>\n",
       "    <tr>\n",
       "      <th>2230</th>\n",
       "      <td>SUB-JA-2017-72591</td>\n",
       "      <td>321765.00</td>\n",
       "      <td>139463.53</td>\n",
       "      <td>218152.74</td>\n",
       "      <td>-8.810093</td>\n",
       "      <td>42.401803</td>\n",
       "      <td>160884.00</td>\n",
       "      <td>1.474953e+00</td>\n",
       "    </tr>\n",
       "    <tr>\n",
       "      <th>2413</th>\n",
       "      <td>SUB-JA-2017-77612</td>\n",
       "      <td>345779.59</td>\n",
       "      <td>54488.25</td>\n",
       "      <td>235200.00</td>\n",
       "      <td>-4.366791</td>\n",
       "      <td>37.099280</td>\n",
       "      <td>130450.00</td>\n",
       "      <td>1.470151e+00</td>\n",
       "    </tr>\n",
       "    <tr>\n",
       "      <th>2462</th>\n",
       "      <td>SUB-JA-2017-79113</td>\n",
       "      <td>69120.00</td>\n",
       "      <td>13093.35</td>\n",
       "      <td>49649.48</td>\n",
       "      <td>-7.866718</td>\n",
       "      <td>42.354611</td>\n",
       "      <td>20202.00</td>\n",
       "      <td>1.392160e+00</td>\n",
       "    </tr>\n",
       "    <tr>\n",
       "      <th>3088</th>\n",
       "      <td>SUB-JA-2018-107695</td>\n",
       "      <td>2623500.00</td>\n",
       "      <td>2369878.59</td>\n",
       "      <td>1738819.25</td>\n",
       "      <td>-1.812332</td>\n",
       "      <td>41.925237</td>\n",
       "      <td>1311750.00</td>\n",
       "      <td>1.508782e+00</td>\n",
       "    </tr>\n",
       "    <tr>\n",
       "      <th>4408</th>\n",
       "      <td>SUB-JA-2019-116958</td>\n",
       "      <td>136068.00</td>\n",
       "      <td>146251.19</td>\n",
       "      <td>112000.00</td>\n",
       "      <td>-0.381898</td>\n",
       "      <td>39.462525</td>\n",
       "      <td>121201.01</td>\n",
       "      <td>1.214893e+00</td>\n",
       "    </tr>\n",
       "    <tr>\n",
       "      <th>4753</th>\n",
       "      <td>SUB-JA-2019-122001</td>\n",
       "      <td>336800.00</td>\n",
       "      <td>273271.54</td>\n",
       "      <td>33688.00</td>\n",
       "      <td>-4.763981</td>\n",
       "      <td>41.577533</td>\n",
       "      <td>154928.00</td>\n",
       "      <td>9.997625e+00</td>\n",
       "    </tr>\n",
       "    <tr>\n",
       "      <th>4814</th>\n",
       "      <td>SUB-JA-2019-122838</td>\n",
       "      <td>198043.00</td>\n",
       "      <td>80058.06</td>\n",
       "      <td>5.00</td>\n",
       "      <td>-0.897314</td>\n",
       "      <td>41.646328</td>\n",
       "      <td>99021.50</td>\n",
       "      <td>3.960860e+04</td>\n",
       "    </tr>\n",
       "    <tr>\n",
       "      <th>4885</th>\n",
       "      <td>SUB-JA-2019-123815</td>\n",
       "      <td>284108.86</td>\n",
       "      <td>218544.95</td>\n",
       "      <td>230000.00</td>\n",
       "      <td>-3.723200</td>\n",
       "      <td>40.676283</td>\n",
       "      <td>178046.51</td>\n",
       "      <td>1.235256e+00</td>\n",
       "    </tr>\n",
       "    <tr>\n",
       "      <th>5933</th>\n",
       "      <td>SUB-JA-2019-136227</td>\n",
       "      <td>68585.66</td>\n",
       "      <td>27472.00</td>\n",
       "      <td>43342.66</td>\n",
       "      <td>-0.544691</td>\n",
       "      <td>38.630746</td>\n",
       "      <td>38000.00</td>\n",
       "      <td>1.582405e+00</td>\n",
       "    </tr>\n",
       "    <tr>\n",
       "      <th>6175</th>\n",
       "      <td>SUB-JA-2019-138372</td>\n",
       "      <td>180400.00</td>\n",
       "      <td>146564.76</td>\n",
       "      <td>180.40</td>\n",
       "      <td>-3.834786</td>\n",
       "      <td>43.473459</td>\n",
       "      <td>93808.00</td>\n",
       "      <td>1.000000e+03</td>\n",
       "    </tr>\n",
       "    <tr>\n",
       "      <th>6864</th>\n",
       "      <td>SUB-JA-2020-144620</td>\n",
       "      <td>4777.78</td>\n",
       "      <td>4777.48</td>\n",
       "      <td>1750.00</td>\n",
       "      <td>-7.834076</td>\n",
       "      <td>42.337282</td>\n",
       "      <td>286.65</td>\n",
       "      <td>2.730160e+00</td>\n",
       "    </tr>\n",
       "    <tr>\n",
       "      <th>7172</th>\n",
       "      <td>SUB-JV-2018-112981</td>\n",
       "      <td>60000.00</td>\n",
       "      <td>60000.00</td>\n",
       "      <td>41325.55</td>\n",
       "      <td>-5.761583</td>\n",
       "      <td>38.981173</td>\n",
       "      <td>60000.00</td>\n",
       "      <td>1.451886e+00</td>\n",
       "    </tr>\n",
       "    <tr>\n",
       "      <th>7385</th>\n",
       "      <td>SUB-JV-2019-139986</td>\n",
       "      <td>70000.00</td>\n",
       "      <td>0.00</td>\n",
       "      <td>40761.08</td>\n",
       "      <td>-4.691548</td>\n",
       "      <td>41.630302</td>\n",
       "      <td>28532.75</td>\n",
       "      <td>1.717324e+00</td>\n",
       "    </tr>\n",
       "  </tbody>\n",
       "</table>\n",
       "</div>"
      ],
      "text/plain": [
       "                   subId  estimatedValue  debtAmount  independentValuation  \\\n",
       "957     SUB-JA-2016-3043        63733.00   225628.88              31866.50   \n",
       "959     SUB-JA-2016-3049        90110.24   111453.20              63077.17   \n",
       "1163   SUB-JA-2016-39170      6678000.00  2414052.87                  0.01   \n",
       "1294    SUB-JA-2016-4381       296987.65   255970.05             241287.00   \n",
       "2230   SUB-JA-2017-72591       321765.00   139463.53             218152.74   \n",
       "2413   SUB-JA-2017-77612       345779.59    54488.25             235200.00   \n",
       "2462   SUB-JA-2017-79113        69120.00    13093.35              49649.48   \n",
       "3088  SUB-JA-2018-107695      2623500.00  2369878.59            1738819.25   \n",
       "4408  SUB-JA-2019-116958       136068.00   146251.19             112000.00   \n",
       "4753  SUB-JA-2019-122001       336800.00   273271.54              33688.00   \n",
       "4814  SUB-JA-2019-122838       198043.00    80058.06                  5.00   \n",
       "4885  SUB-JA-2019-123815       284108.86   218544.95             230000.00   \n",
       "5933  SUB-JA-2019-136227        68585.66    27472.00              43342.66   \n",
       "6175  SUB-JA-2019-138372       180400.00   146564.76                180.40   \n",
       "6864  SUB-JA-2020-144620         4777.78     4777.48               1750.00   \n",
       "7172  SUB-JV-2018-112981        60000.00    60000.00              41325.55   \n",
       "7385  SUB-JV-2019-139986        70000.00        0.00              40761.08   \n",
       "\n",
       "      longitude   latitude      maxBid  estimatedValueToValuationRatio  \n",
       "957    2.763047  39.520958   285000.00                    2.000000e+00  \n",
       "959   -5.940971  37.701829    45057.00                    1.428571e+00  \n",
       "1163  -5.023447  36.476929  1200000.00                    6.678000e+08  \n",
       "1294   1.511181  41.220761     5000.00                    1.230848e+00  \n",
       "2230  -8.810093  42.401803   160884.00                    1.474953e+00  \n",
       "2413  -4.366791  37.099280   130450.00                    1.470151e+00  \n",
       "2462  -7.866718  42.354611    20202.00                    1.392160e+00  \n",
       "3088  -1.812332  41.925237  1311750.00                    1.508782e+00  \n",
       "4408  -0.381898  39.462525   121201.01                    1.214893e+00  \n",
       "4753  -4.763981  41.577533   154928.00                    9.997625e+00  \n",
       "4814  -0.897314  41.646328    99021.50                    3.960860e+04  \n",
       "4885  -3.723200  40.676283   178046.51                    1.235256e+00  \n",
       "5933  -0.544691  38.630746    38000.00                    1.582405e+00  \n",
       "6175  -3.834786  43.473459    93808.00                    1.000000e+03  \n",
       "6864  -7.834076  42.337282      286.65                    2.730160e+00  \n",
       "7172  -5.761583  38.981173    60000.00                    1.451886e+00  \n",
       "7385  -4.691548  41.630302    28532.75                    1.717324e+00  "
      ]
     },
     "execution_count": 73,
     "metadata": {},
     "output_type": "execute_result"
    }
   ],
   "source": [
    "filtered_auctions.loc[(filtered_auctions[\"estimatedValueToValuationRatio\"] > 1.2) & (filtered_auctions[\"independentValuation\"] > 0)]"
   ]
  },
  {
   "cell_type": "markdown",
   "metadata": {},
   "source": [
    "After finding a huge amount of disparities between the estimated value and the independent valuation, taking action to dig more into what is going on was required."
   ]
  },
  {
   "cell_type": "markdown",
   "metadata": {},
   "source": [
    "## 4. Exploratory Analysis\n",
    "\n",
    "Here we are going to proceed to visualize the data using matplotlib to have a better understanding of the data properties and how is distributed."
   ]
  },
  {
   "cell_type": "code",
   "execution_count": 11,
   "metadata": {},
   "outputs": [
    {
     "data": {
      "text/html": [
       "<div>\n",
       "<style scoped>\n",
       "    .dataframe tbody tr th:only-of-type {\n",
       "        vertical-align: middle;\n",
       "    }\n",
       "\n",
       "    .dataframe tbody tr th {\n",
       "        vertical-align: top;\n",
       "    }\n",
       "\n",
       "    .dataframe thead th {\n",
       "        text-align: right;\n",
       "    }\n",
       "</style>\n",
       "<table border=\"1\" class=\"dataframe\">\n",
       "  <thead>\n",
       "    <tr style=\"text-align: right;\">\n",
       "      <th></th>\n",
       "      <th>estimatedValue</th>\n",
       "      <th>debtAmount</th>\n",
       "      <th>independentValuation</th>\n",
       "      <th>longitude</th>\n",
       "      <th>latitude</th>\n",
       "      <th>maxBid</th>\n",
       "    </tr>\n",
       "  </thead>\n",
       "  <tbody>\n",
       "    <tr>\n",
       "      <th>count</th>\n",
       "      <td>8608.000</td>\n",
       "      <td>8608.000</td>\n",
       "      <td>8608.000</td>\n",
       "      <td>8462.000</td>\n",
       "      <td>8462.000</td>\n",
       "      <td>8608.000</td>\n",
       "    </tr>\n",
       "    <tr>\n",
       "      <th>mean</th>\n",
       "      <td>319296.266</td>\n",
       "      <td>369986.822</td>\n",
       "      <td>136561.798</td>\n",
       "      <td>-3.231</td>\n",
       "      <td>39.092</td>\n",
       "      <td>127470.220</td>\n",
       "    </tr>\n",
       "    <tr>\n",
       "      <th>std</th>\n",
       "      <td>2167273.812</td>\n",
       "      <td>5316944.362</td>\n",
       "      <td>2106269.634</td>\n",
       "      <td>4.589</td>\n",
       "      <td>3.455</td>\n",
       "      <td>364756.723</td>\n",
       "    </tr>\n",
       "    <tr>\n",
       "      <th>min</th>\n",
       "      <td>0.000</td>\n",
       "      <td>0.000</td>\n",
       "      <td>0.000</td>\n",
       "      <td>-17.913</td>\n",
       "      <td>27.763</td>\n",
       "      <td>0.000</td>\n",
       "    </tr>\n",
       "    <tr>\n",
       "      <th>25%</th>\n",
       "      <td>61515.812</td>\n",
       "      <td>19795.408</td>\n",
       "      <td>0.000</td>\n",
       "      <td>-4.831</td>\n",
       "      <td>37.747</td>\n",
       "      <td>10359.225</td>\n",
       "    </tr>\n",
       "    <tr>\n",
       "      <th>50%</th>\n",
       "      <td>152481.500</td>\n",
       "      <td>82469.175</td>\n",
       "      <td>0.000</td>\n",
       "      <td>-3.629</td>\n",
       "      <td>40.055</td>\n",
       "      <td>67776.955</td>\n",
       "    </tr>\n",
       "    <tr>\n",
       "      <th>75%</th>\n",
       "      <td>270982.238</td>\n",
       "      <td>169027.395</td>\n",
       "      <td>40049.448</td>\n",
       "      <td>-0.203</td>\n",
       "      <td>41.369</td>\n",
       "      <td>137437.515</td>\n",
       "    </tr>\n",
       "    <tr>\n",
       "      <th>max</th>\n",
       "      <td>180000000.000</td>\n",
       "      <td>366426481.750</td>\n",
       "      <td>180000000.000</td>\n",
       "      <td>4.287</td>\n",
       "      <td>43.752</td>\n",
       "      <td>12737000.000</td>\n",
       "    </tr>\n",
       "  </tbody>\n",
       "</table>\n",
       "</div>"
      ],
      "text/plain": [
       "      estimatedValue     debtAmount independentValuation longitude  latitude  \\\n",
       "count       8608.000       8608.000             8608.000  8462.000  8462.000   \n",
       "mean      319296.266     369986.822           136561.798    -3.231    39.092   \n",
       "std      2167273.812    5316944.362          2106269.634     4.589     3.455   \n",
       "min            0.000          0.000                0.000   -17.913    27.763   \n",
       "25%        61515.812      19795.408                0.000    -4.831    37.747   \n",
       "50%       152481.500      82469.175                0.000    -3.629    40.055   \n",
       "75%       270982.238     169027.395            40049.448    -0.203    41.369   \n",
       "max    180000000.000  366426481.750        180000000.000     4.287    43.752   \n",
       "\n",
       "             maxBid  \n",
       "count      8608.000  \n",
       "mean     127470.220  \n",
       "std      364756.723  \n",
       "min           0.000  \n",
       "25%       10359.225  \n",
       "50%       67776.955  \n",
       "75%      137437.515  \n",
       "max    12737000.000  "
      ]
     },
     "execution_count": 11,
     "metadata": {},
     "output_type": "execute_result"
    }
   ],
   "source": [
    "auctions.describe().apply(lambda s: s.apply(lambda x: '%.3f' % x))\n"
   ]
  },
  {
   "cell_type": "code",
   "execution_count": null,
   "metadata": {},
   "outputs": [],
   "source": []
  },
  {
   "cell_type": "code",
   "execution_count": 74,
   "metadata": {},
   "outputs": [
    {
     "name": "stderr",
     "output_type": "stream",
     "text": [
      "No handles with labels found to put in legend.\n"
     ]
    },
    {
     "data": {
      "text/plain": [
       "<matplotlib.legend.Legend at 0x11b91db10>"
      ]
     },
     "execution_count": 74,
     "metadata": {},
     "output_type": "execute_result"
    },
    {
     "data": {
      "image/png": "[encoded data removed]",
      "text/plain": [
       "<Figure size 432x288 with 1 Axes>"
      ]
     },
     "metadata": {
      "needs_background": "light"
     },
     "output_type": "display_data"
    }
   ],
   "source": [
    "auctions.plot(kind=\"scatter\", x=\"longitude\", y=\"latitude\", alpha=0.1)\n",
    "plt.legend()"
   ]
  },
  {
   "cell_type": "markdown",
   "metadata": {},
   "source": [
    "##### Some observations\n",
    "\n",
    "Seems we have the case of heavy tailing in most of the features. Concretely, has a high positive skewness.\n",
    "\n",
    "Originally we were using Postal Code, in a effort to turn it into a continuous variable we leveraged on Goolgle Geocode API to turn it into geographic coordinates.\n",
    "There were some instances where Google was not gicing the right coordinates but this was fixed by passing extra contextual data."
   ]
  },
  {
   "cell_type": "code",
   "execution_count": 11,
   "metadata": {},
   "outputs": [
    {
     "data": {
      "text/plain": [
       "<matplotlib.axes._subplots.AxesSubplot at 0x104f71190>"
      ]
     },
     "execution_count": 11,
     "metadata": {},
     "output_type": "execute_result"
    },
    {
     "data": {
      "image/png": "[encoded data removed]",
      "text/plain": [
       "<Figure size 432x288 with 1 Axes>"
      ]
     },
     "metadata": {
      "needs_background": "light"
     },
     "output_type": "display_data"
    }
   ],
   "source": [
    "auctions.plot(kind=\"scatter\", x=\"estimatedValue\", y=\"debtAmount\", alpha=0.1)"
   ]
  },
  {
   "cell_type": "code",
   "execution_count": 42,
   "metadata": {},
   "outputs": [
    {
     "name": "stdout",
     "output_type": "stream",
     "text": [
      "This many samples with provided data for \"debtAmount\": 8590\n",
      "\n",
      "This many samples with provided data for \"estimatedValue\": 7893\n",
      "\n"
     ]
    }
   ],
   "source": [
    "estimatedValues = auctions[\"estimatedValue\"]\n",
    "debtAmounts = auctions[\"debtAmount\"]\n",
    "\n",
    "count_with_value_estimation = 0\n",
    "count_with_debt_amount = 0\n",
    "\n",
    "for e in estimatedValues:\n",
    "    if e != 0:\n",
    "        count_with_debt_amount += 1\n",
    "\n",
    "for e in debtAmounts:\n",
    "    if e != 0.0:\n",
    "        count_with_value_estimation += 1\n",
    "\n",
    "\n",
    "print(f'This many samples with provided data for \"debtAmount\": {count_with_debt_amount}\\n')\n",
    "\n",
    "print(f'This many samples with provided data for \"estimatedValue\": {count_with_value_estimation}\\n')"
   ]
  },
  {
   "cell_type": "markdown",
   "metadata": {},
   "source": [
    "### Quantile-based discretization\n",
    "\n",
    "Discretize variable into equal-sized buckets based on rank or based on sample quantiles. For example 1000 values for 10 quantiles would produce a Categorical object indicating quantile membership for each data point.\n",
    "\n",
    "With cut on the other side, we would probably suffer a huge skewness on the data for the super high value assets\n",
    "\n",
    "##### What is the difference between pandas.qcut and pandas.cut?\n",
    "https://stackoverflow.com/questions/30211923/what-is-the-difference-between-pandas-qcut-and-pandas-cut\n",
    "\n",
    "`[...]So, when you ask for quintiles with qcut, the bins will be chosen so that you have the same number of records in each bin. You have 30 records, so should have 6 in each bin (your output should look like this, although the breakpoints will differ due to the random draw)[...]`\n",
    "\n",
    "`[...]cut will choose the bins to be evenly spaced according to the values themselves and not the frequency of those values. Hence, because you drew from a random normal, you'll see higher frequencies in the inner bins and fewer in the outer. This is essentially going to be a tabular form of a histogram (which you would expect to be fairly bell shaped with 30 records)[...]`"
   ]
  },
  {
   "cell_type": "code",
   "execution_count": 85,
   "metadata": {},
   "outputs": [
    {
     "data": {
      "text/plain": [
       "0         (11200.0, 17709.176]\n",
       "1          (3004.554, 6990.96]\n",
       "2           (6990.96, 11200.0]\n",
       "3           (6990.96, 11200.0]\n",
       "4           (6990.96, 11200.0]\n",
       "                 ...          \n",
       "8603      (17709.176, 26774.0]\n",
       "8604        (-0.001, 3004.554]\n",
       "8605        (6990.96, 11200.0]\n",
       "8606      (11200.0, 17709.176]\n",
       "8607    (54610.224, 67231.172]\n",
       "Name: estimatedValue, Length: 8608, dtype: category\n",
       "Categories (30, interval[float64]): [(-0.001, 3004.554] < (3004.554, 6990.96] < (6990.96, 11200.0] < (11200.0, 17709.176] ... (395874.0, 479865.915] < (479865.915, 654807.302] < (654807.302, 1214151.19] < (1214151.19, 180000000.0]]"
      ]
     },
     "execution_count": 85,
     "metadata": {},
     "output_type": "execute_result"
    }
   ],
   "source": [
    "pd.qcut(auctions[\"estimatedValue\"], 30)"
   ]
  },
  {
   "cell_type": "code",
   "execution_count": null,
   "metadata": {
    "scrolled": false
   },
   "outputs": [],
   "source": []
  },
  {
   "cell_type": "code",
   "execution_count": 187,
   "metadata": {},
   "outputs": [
    {
     "data": {
      "text/plain": [
       "70.73160540465118"
      ]
     },
     "execution_count": 187,
     "metadata": {},
     "output_type": "execute_result"
    }
   ],
   "source": [
    "auctions[\"estimatedValue\"].skew()"
   ]
  },
  {
   "cell_type": "markdown",
   "metadata": {},
   "source": [
    "### Some observations on the previous data\n",
    "\n",
    "Turns out the data it's strongly skewed (positive skew). The purpose of this analysis, is detecting patterns in the auctions to use that intelligence to predict interesting auctions in the future.\n",
    "Given the outliers will be far from our reach in economic terms, the option choosen to get a more normal distribution would be to simply remove those outliers.\n",
    "Same will be done for the elements with a valuation of 0 given this is one of the most important properties in our dataset.\n",
    "\n",
    "<em>**Clarification**: We are talking about repossessed assets with valuations of 2/3 million +. Given that an average person doesn't use all his capital for this type of business, makes sense the decision of removing those elements falling above this threshold.</em>"
   ]
  },
  {
   "cell_type": "code",
   "execution_count": 30,
   "metadata": {},
   "outputs": [
    {
     "name": "stdout",
     "output_type": "stream",
     "text": [
      "7986\n",
      "7986\n"
     ]
    }
   ],
   "source": [
    "EST_VALUE_UPPER_THRESSHOLD = 1500000\n",
    "DEBT_RATIO_UPPER_THRESHOLD = 5\n",
    "\n",
    "auctions_copy = auctions.copy()\n",
    "\n",
    "auctions_copy.drop(\n",
    "    auctions_copy[\n",
    "        (auctions_copy[\"estimatedValue\"] > EST_VALUE_UPPER_THRESSHOLD) |\n",
    "        (auctions_copy[\"estimatedValue\"] == 0) |\n",
    "        (np.isnan(auctions_copy[\"debtAmount\"]) == True) |\n",
    "        (auctions_copy[\"debtAmount\"]/auctions_copy[\"estimatedValue\"] > DEBT_RATIO_UPPER_THRESHOLD)\n",
    "    ].index, inplace=True)\n",
    "\n",
    "print(len(auctions_copy[\"estimatedValue\"]))\n",
    "print(len(auctions_copy[\"debtAmount\"]))"
   ]
  },
  {
   "cell_type": "code",
   "execution_count": 261,
   "metadata": {},
   "outputs": [
    {
     "data": {
      "image/png": "[encoded data removed]",
      "text/plain": [
       "<Figure size 1440x1080 with 6 Axes>"
      ]
     },
     "metadata": {
      "needs_background": "light"
     },
     "output_type": "display_data"
    }
   ],
   "source": [
    "%matplotlib inline\n",
    "\n",
    "auctions_copy.hist(bins=10, figsize=(20,15))\n",
    "plt.show()\n"
   ]
  },
  {
   "cell_type": "code",
   "execution_count": 262,
   "metadata": {},
   "outputs": [
    {
     "name": "stdout",
     "output_type": "stream",
     "text": [
      "7376\n"
     ]
    }
   ],
   "source": [
    "print(len(auctions_copy[\"debtAmount\"]))\n"
   ]
  },
  {
   "cell_type": "code",
   "execution_count": null,
   "metadata": {},
   "outputs": [],
   "source": []
  },
  {
   "cell_type": "code",
   "execution_count": null,
   "metadata": {},
   "outputs": [],
   "source": []
  }
 ],
 "metadata": {
  "kernelspec": {
   "display_name": "Python 3",
   "language": "python",
   "name": "python3"
  },
  "language_info": {
   "codemirror_mode": {
    "name": "ipython",
    "version": 3
   },
   "file_extension": ".py",
   "mimetype": "text/x-python",
   "name": "python",
   "nbconvert_exporter": "python",
   "pygments_lexer": "ipython3",
   "version": "3.7.6"
  }
 },
 "nbformat": 4,
 "nbformat_minor": 2
}
