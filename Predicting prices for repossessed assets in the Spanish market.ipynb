{
 "cells": [
  {
   "cell_type": "markdown",
   "metadata": {},
   "source": [
    "## 1. Problem Definition\n",
    "\n",
    "The following project has to do with the market for repossesed assets in the Spanish market. There is a public website that exposes current and past auctions.\n",
    "\n",
    "- There are several types of assets ranging from apartments to rustic/agricultural land.\n",
    "- Not all the data is exposed through the website so it's critical to have something to collect and save data before stops being exposed.\n",
    "- There is no public API so scraping is required. Given there is no usage of new technology it is actually quite easy.\n",
    "\n",
    "The main goal of this project is having a tool that basically allows us to separate the chaff from the wheat. There is a significant amount of empty auctions and also non-empty ones with low quality assets so it's critical to have sort of accurate tool to have an initial filter so then we can perform a manual analysis of each opportunity without losing too much time.\n",
    "\n",
    "For this reason is why we want to focus on predicting two key aspects.\n",
    "- If a given auction is going to be empty or not.\n",
    "- If an auction is going to be disputed, what is the approximate amoutn we expect to bid in case we want to acquire the asset.\n"
   ]
  },
  {
   "cell_type": "markdown",
   "metadata": {},
   "source": [
    "## 2. Data gathering\n",
    "\n",
    "For this part we have relied on a library called Puppeteer developed by Google. It might feel as an overkill but at the moment of development it was the tool we were mostly used to so we opted for using this to be able to develop something quickly, not necesarily perfect.\n",
    "\n",
    "Initially we set our expectations quite high with regards to the amount of new data to be ready to be scraped from the auction site. Turns out we deeply overestimated this.\n",
    "Initially expectation was set at around 6000-10000 records per week. At the moment we estimate around 800-1200 per week.\n",
    "\n",
    "Some 3rd party services were used to get more meaningful data. Concretely, Google Geovode API was used to turn postal codes into coordinates so we can have some sort of continous variable for location purposes.\n"
   ]
  },
  {
   "cell_type": "markdown",
   "metadata": {},
   "source": [
    "## 3. Preparing Data for Consumption\n"
   ]
  },
  {
   "cell_type": "code",
   "execution_count": 30,
   "metadata": {},
   "outputs": [],
   "source": [
    "# Imports\n",
    "import json\n",
    "import pandas as pd\n",
    "import os\n",
    "import matplotlib.pyplot as plt\n",
    "import numpy as np"
   ]
  },
  {
   "cell_type": "code",
   "execution_count": 31,
   "metadata": {},
   "outputs": [],
   "source": [
    "# Constants\n",
    "ROOT_DIR = os.getcwd()\n",
    "PATH_TO_CSVS = os.path.join(ROOT_DIR, \"results/csv\")"
   ]
  },
  {
   "cell_type": "markdown",
   "metadata": {},
   "source": [
    "The following is an example on how the data looks like.\n",
    "\n",
    "In this case, it is a JSON file for a single auction item."
   ]
  },
  {
   "cell_type": "code",
   "execution_count": 32,
   "metadata": {
    "scrolled": false
   },
   "outputs": [
    {
     "name": "stdout",
     "output_type": "stream",
     "text": [
      "{\n",
      "    \"autoridad_gestora\": {\n",
      "        \"codigo\": \"R45860\",\n",
      "        \"correo_electronico\": \"subastas.castillalamancha@correo.aeat.es\",\n",
      "        \"descripcion\": \"U.R. SUBASTAS CASTILLA-MANCHA (AEAT)\",\n",
      "        \"direccion\": \"PZ TENDILLAS 1 ; 45002 TOLEDO\",\n",
      "        \"fax\": \"-\",\n",
      "        \"telefono\": \"925287719\"\n",
      "    },\n",
      "    \"bienes\": {\n",
      "        \"cargas\": \"0,00 \\u20ac\",\n",
      "        \"codigo_postal\": \"02002\",\n",
      "        \"descripcion\": \"URBANA. GARAJE EN CALLE ANGEL, N\\u00ba 19, PLANTA BAJA, SUPERFICIE UTIL, 10,13 M2. CUOTA DE PARTICIPACI\\u00d3N DE UN ENTERO Y SEIS CENTESIMAS POR CIENTO.\",\n",
      "        \"direccion\": \"CL ANGEL 19 0\",\n",
      "        \"idufir\": \"02011000745776\",\n",
      "        \"inscripcion_registral\": \"BIEN INSCRITO EN REGISTRO N\\u00daM. 4 DE ALBACETE TOMO: 2373 , FOLIO: 191 , LIBRO: 681. FINCA: 36248 , INSCRIPCI\\u00d3N: 1\",\n",
      "        \"localidad\": \"ALBACETE\",\n",
      "        \"provincia\": \"Albacete\",\n",
      "        \"referencia_catastral\": \"9961014WJ9196B0019UA\",\n",
      "        \"situacion_posesoria\": \"No consta\",\n",
      "        \"titulo_juridico\": \"PLENO DOMINIO\",\n",
      "        \"visitable\": \"No consta\"\n",
      "    },\n",
      "    \"informacion_general\": {\n",
      "        \"anuncio_boe\": \"BOE-B-2018-56530\",\n",
      "        \"fecha_de_conclusion\": \"20-12-2018 19:00:13 CET (ISO: 2018-12-20T19:00:13+01:00)\",\n",
      "        \"fecha_de_inicio\": \"30-11-2018 18:00:00 CET (ISO: 2018-11-30T18:00:00+01:00)\",\n",
      "        \"identificador\": \"SUB-AT-2018-18R4586001028\",\n",
      "        \"importe_del_deposito\": \"609,07 \\u20ac\",\n",
      "        \"lotes\": \"Sin lotes\",\n",
      "        \"puja_minima\": \"Sin puja m\\u00ednima\",\n",
      "        \"tasacion\": \"12.181,52 \\u20ac\",\n",
      "        \"tipo_de_subasta\": \"AGENCIA TRIBUTARIA\",\n",
      "        \"tramos_entre_pujas\": \"500,00 \\u20ac\",\n",
      "        \"valor_subasta\": \"12.181,52 \\u20ac\"\n",
      "    },\n",
      "    \"pujas\": {\n",
      "        \"pujaMaxima\": \"9.000,00 \\u20ac\"\n",
      "    },\n",
      "    \"relacionados\": {}\n",
      "}\n"
     ]
    }
   ],
   "source": [
    "path_to_example = os.path.join(ROOT_DIR, \"results/details/SUB-AT-2018-18R4586001028.json\")\n",
    "\n",
    "with open(path_to_example) as file:\n",
    "    jsonData = json.load(file)\n",
    "\n",
    "print(json.dumps(jsonData, indent=4, sort_keys=True)) "
   ]
  },
  {
   "cell_type": "code",
   "execution_count": 33,
   "metadata": {},
   "outputs": [],
   "source": [
    "def loading_auction_data(filename, path=PATH_TO_CSVS):\n",
    "    csv_path = os.path.join(path, filename)\n",
    "    return pd.read_csv(csv_path)\n",
    "\n",
    "auctions = loading_auction_data(\"allAuctions1.csv\")\n",
    "\n",
    "auctions_copy = auctions.copy(deep=True)"
   ]
  },
  {
   "cell_type": "code",
   "execution_count": 34,
   "metadata": {},
   "outputs": [
    {
     "name": "stdout",
     "output_type": "stream",
     "text": [
      "<class 'pandas.core.frame.DataFrame'>\n",
      "RangeIndex: 8608 entries, 0 to 8607\n",
      "Data columns (total 7 columns):\n",
      "subId                   8608 non-null object\n",
      "estimatedValue          8608 non-null float64\n",
      "debtAmount              8608 non-null float64\n",
      "independentValuation    8608 non-null float64\n",
      "longitude               8462 non-null float64\n",
      "latitude                8462 non-null float64\n",
      "maxBid                  8608 non-null float64\n",
      "dtypes: float64(6), object(1)\n",
      "memory usage: 470.9+ KB\n"
     ]
    }
   ],
   "source": [
    "auctions_copy.info()"
   ]
  },
  {
   "cell_type": "code",
   "execution_count": 35,
   "metadata": {},
   "outputs": [
    {
     "data": {
      "text/html": [
       "<div>\n",
       "<style scoped>\n",
       "    .dataframe tbody tr th:only-of-type {\n",
       "        vertical-align: middle;\n",
       "    }\n",
       "\n",
       "    .dataframe tbody tr th {\n",
       "        vertical-align: top;\n",
       "    }\n",
       "\n",
       "    .dataframe thead th {\n",
       "        text-align: right;\n",
       "    }\n",
       "</style>\n",
       "<table border=\"1\" class=\"dataframe\">\n",
       "  <thead>\n",
       "    <tr style=\"text-align: right;\">\n",
       "      <th></th>\n",
       "      <th>subId</th>\n",
       "      <th>estimatedValue</th>\n",
       "      <th>debtAmount</th>\n",
       "      <th>independentValuation</th>\n",
       "      <th>longitude</th>\n",
       "      <th>latitude</th>\n",
       "      <th>maxBid</th>\n",
       "    </tr>\n",
       "  </thead>\n",
       "  <tbody>\n",
       "    <tr>\n",
       "      <th>4230</th>\n",
       "      <td>SUB-JA-2018-97949</td>\n",
       "      <td>467764.20</td>\n",
       "      <td>581284.31</td>\n",
       "      <td>0.00</td>\n",
       "      <td>-6.099698</td>\n",
       "      <td>40.036150</td>\n",
       "      <td>327434.94</td>\n",
       "    </tr>\n",
       "    <tr>\n",
       "      <th>7030</th>\n",
       "      <td>SUB-JC-2020-144361</td>\n",
       "      <td>2227.85</td>\n",
       "      <td>6936991.16</td>\n",
       "      <td>0.00</td>\n",
       "      <td>-2.037116</td>\n",
       "      <td>39.313244</td>\n",
       "      <td>100.00</td>\n",
       "    </tr>\n",
       "    <tr>\n",
       "      <th>4481</th>\n",
       "      <td>SUB-JA-2019-118016</td>\n",
       "      <td>112299.00</td>\n",
       "      <td>112299.00</td>\n",
       "      <td>0.00</td>\n",
       "      <td>-3.753666</td>\n",
       "      <td>43.316306</td>\n",
       "      <td>33689.70</td>\n",
       "    </tr>\n",
       "    <tr>\n",
       "      <th>533</th>\n",
       "      <td>SUB-JA-2015-1371</td>\n",
       "      <td>273065.22</td>\n",
       "      <td>0.01</td>\n",
       "      <td>0.00</td>\n",
       "      <td>-3.644582</td>\n",
       "      <td>40.422369</td>\n",
       "      <td>82821.71</td>\n",
       "    </tr>\n",
       "    <tr>\n",
       "      <th>2835</th>\n",
       "      <td>SUB-JA-2018-102561</td>\n",
       "      <td>137605.95</td>\n",
       "      <td>76510.13</td>\n",
       "      <td>0.00</td>\n",
       "      <td>-6.290714</td>\n",
       "      <td>36.798736</td>\n",
       "      <td>96323.85</td>\n",
       "    </tr>\n",
       "    <tr>\n",
       "      <th>5503</th>\n",
       "      <td>SUB-JA-2019-131469</td>\n",
       "      <td>70389.00</td>\n",
       "      <td>1919.67</td>\n",
       "      <td>0.00</td>\n",
       "      <td>-4.516040</td>\n",
       "      <td>36.626557</td>\n",
       "      <td>63350.10</td>\n",
       "    </tr>\n",
       "    <tr>\n",
       "      <th>8445</th>\n",
       "      <td>SUB-NV-2019-395882</td>\n",
       "      <td>3606.07</td>\n",
       "      <td>33458.71</td>\n",
       "      <td>3606.07</td>\n",
       "      <td>-16.717567</td>\n",
       "      <td>28.081772</td>\n",
       "      <td>0.00</td>\n",
       "    </tr>\n",
       "    <tr>\n",
       "      <th>2513</th>\n",
       "      <td>SUB-JA-2017-80508</td>\n",
       "      <td>306326.75</td>\n",
       "      <td>159781.19</td>\n",
       "      <td>306326.75</td>\n",
       "      <td>2.051815</td>\n",
       "      <td>41.567965</td>\n",
       "      <td>136827.61</td>\n",
       "    </tr>\n",
       "    <tr>\n",
       "      <th>6660</th>\n",
       "      <td>SUB-JA-2020-142756</td>\n",
       "      <td>129050.00</td>\n",
       "      <td>17325.76</td>\n",
       "      <td>129050.00</td>\n",
       "      <td>2.852724</td>\n",
       "      <td>41.978504</td>\n",
       "      <td>84500.00</td>\n",
       "    </tr>\n",
       "    <tr>\n",
       "      <th>7848</th>\n",
       "      <td>SUB-NE-2018-335715</td>\n",
       "      <td>249199.59</td>\n",
       "      <td>205501.55</td>\n",
       "      <td>249199.59</td>\n",
       "      <td>2.673541</td>\n",
       "      <td>41.635034</td>\n",
       "      <td>0.00</td>\n",
       "    </tr>\n",
       "  </tbody>\n",
       "</table>\n",
       "</div>"
      ],
      "text/plain": [
       "                   subId  estimatedValue  debtAmount  independentValuation  \\\n",
       "4230   SUB-JA-2018-97949       467764.20   581284.31                  0.00   \n",
       "7030  SUB-JC-2020-144361         2227.85  6936991.16                  0.00   \n",
       "4481  SUB-JA-2019-118016       112299.00   112299.00                  0.00   \n",
       "533     SUB-JA-2015-1371       273065.22        0.01                  0.00   \n",
       "2835  SUB-JA-2018-102561       137605.95    76510.13                  0.00   \n",
       "5503  SUB-JA-2019-131469        70389.00     1919.67                  0.00   \n",
       "8445  SUB-NV-2019-395882         3606.07    33458.71               3606.07   \n",
       "2513   SUB-JA-2017-80508       306326.75   159781.19             306326.75   \n",
       "6660  SUB-JA-2020-142756       129050.00    17325.76             129050.00   \n",
       "7848  SUB-NE-2018-335715       249199.59   205501.55             249199.59   \n",
       "\n",
       "      longitude   latitude     maxBid  \n",
       "4230  -6.099698  40.036150  327434.94  \n",
       "7030  -2.037116  39.313244     100.00  \n",
       "4481  -3.753666  43.316306   33689.70  \n",
       "533   -3.644582  40.422369   82821.71  \n",
       "2835  -6.290714  36.798736   96323.85  \n",
       "5503  -4.516040  36.626557   63350.10  \n",
       "8445 -16.717567  28.081772       0.00  \n",
       "2513   2.051815  41.567965  136827.61  \n",
       "6660   2.852724  41.978504   84500.00  \n",
       "7848   2.673541  41.635034       0.00  "
      ]
     },
     "execution_count": 35,
     "metadata": {},
     "output_type": "execute_result"
    }
   ],
   "source": [
    "auctions_copy.sample(10)"
   ]
  },
  {
   "cell_type": "code",
   "execution_count": 46,
   "metadata": {},
   "outputs": [
    {
     "name": "stdout",
     "output_type": "stream",
     "text": [
      "146\n"
     ]
    }
   ],
   "source": [
    "print(auctions_copy[\"longitude\"].isnull().sum())\n",
    "auctions_copy = auctions_copy.drop(auctions_copy.loc[auctions[\"longitude\"].isnull()].index)\n"
   ]
  },
  {
   "cell_type": "code",
   "execution_count": 70,
   "metadata": {},
   "outputs": [
    {
     "name": "stdout",
     "output_type": "stream",
     "text": [
      "subId                   0\n",
      "estimatedValue          0\n",
      "debtAmount              0\n",
      "independentValuation    0\n",
      "longitude               0\n",
      "latitude                0\n",
      "maxBid                  0\n",
      "dtype: int64\n"
     ]
    }
   ],
   "source": [
    "print(auctions_copy.isnull().sum())"
   ]
  },
  {
   "cell_type": "code",
   "execution_count": 90,
   "metadata": {},
   "outputs": [
    {
     "name": "stdout",
     "output_type": "stream",
     "text": [
      "6.995% of instances where estimatedValue and independentValuation diverge\n"
     ]
    }
   ],
   "source": [
    "\n",
    "selectedRows = auctions_copy.loc[\n",
    "    auctions_copy[\"estimatedValue\"] > 100\n",
    "].loc[\n",
    "    auctions_copy[\"independentValuation\"] > 100\n",
    "]\n",
    "\n",
    "selectedRows[\"estimatedValueToValuationRatio\"] = selectedRows[\"estimatedValue\"]/selectedRows[\"independentValuation\"]\n",
    "\n",
    "rows_with_discrepancies = selectedRows.loc[selectedRows[\"estimatedValueToValuationRatio\"] != 1.0].shape[0]\n",
    "\n",
    "percentage_of_discrepancies = round(rows_with_discrepancies/selectedRows.shape[0] * 100, 3)\n",
    "\n",
    "print(f'{percentage_of_discrepancies}% of instances where estimatedValue and independentValuation diverge')"
   ]
  },
  {
   "cell_type": "markdown",
   "metadata": {},
   "source": [
    "After this discovery is better to assume in favour of simplicity to drop the **\"independentValuation\"** feature"
   ]
  },
  {
   "cell_type": "markdown",
   "metadata": {},
   "source": [
    "## 4. Exploratory Analysis\n",
    "\n",
    "Here we are going to proceed to visualize the data using matplotlib to have a better understanding of the data properties and how is distributed."
   ]
  },
  {
   "cell_type": "code",
   "execution_count": 9,
   "metadata": {},
   "outputs": [
    {
     "data": {
      "text/html": [
       "<div>\n",
       "<style scoped>\n",
       "    .dataframe tbody tr th:only-of-type {\n",
       "        vertical-align: middle;\n",
       "    }\n",
       "\n",
       "    .dataframe tbody tr th {\n",
       "        vertical-align: top;\n",
       "    }\n",
       "\n",
       "    .dataframe thead th {\n",
       "        text-align: right;\n",
       "    }\n",
       "</style>\n",
       "<table border=\"1\" class=\"dataframe\">\n",
       "  <thead>\n",
       "    <tr style=\"text-align: right;\">\n",
       "      <th></th>\n",
       "      <th>estimatedValue</th>\n",
       "      <th>debtAmount</th>\n",
       "      <th>independentValuation</th>\n",
       "      <th>longitude</th>\n",
       "      <th>latitude</th>\n",
       "      <th>maxBid</th>\n",
       "    </tr>\n",
       "  </thead>\n",
       "  <tbody>\n",
       "    <tr>\n",
       "      <th>count</th>\n",
       "      <td>8608.000</td>\n",
       "      <td>8608.000</td>\n",
       "      <td>8608.000</td>\n",
       "      <td>8462.000</td>\n",
       "      <td>8462.000</td>\n",
       "      <td>8608.000</td>\n",
       "    </tr>\n",
       "    <tr>\n",
       "      <th>mean</th>\n",
       "      <td>319296.266</td>\n",
       "      <td>369986.822</td>\n",
       "      <td>136561.798</td>\n",
       "      <td>-3.231</td>\n",
       "      <td>39.092</td>\n",
       "      <td>127470.220</td>\n",
       "    </tr>\n",
       "    <tr>\n",
       "      <th>std</th>\n",
       "      <td>2167273.812</td>\n",
       "      <td>5316944.362</td>\n",
       "      <td>2106269.634</td>\n",
       "      <td>4.589</td>\n",
       "      <td>3.455</td>\n",
       "      <td>364756.723</td>\n",
       "    </tr>\n",
       "    <tr>\n",
       "      <th>min</th>\n",
       "      <td>0.000</td>\n",
       "      <td>0.000</td>\n",
       "      <td>0.000</td>\n",
       "      <td>-17.913</td>\n",
       "      <td>27.763</td>\n",
       "      <td>0.000</td>\n",
       "    </tr>\n",
       "    <tr>\n",
       "      <th>25%</th>\n",
       "      <td>61515.812</td>\n",
       "      <td>19795.408</td>\n",
       "      <td>0.000</td>\n",
       "      <td>-4.831</td>\n",
       "      <td>37.747</td>\n",
       "      <td>10359.225</td>\n",
       "    </tr>\n",
       "    <tr>\n",
       "      <th>50%</th>\n",
       "      <td>152481.500</td>\n",
       "      <td>82469.175</td>\n",
       "      <td>0.000</td>\n",
       "      <td>-3.629</td>\n",
       "      <td>40.055</td>\n",
       "      <td>67776.955</td>\n",
       "    </tr>\n",
       "    <tr>\n",
       "      <th>75%</th>\n",
       "      <td>270982.238</td>\n",
       "      <td>169027.395</td>\n",
       "      <td>40049.448</td>\n",
       "      <td>-0.203</td>\n",
       "      <td>41.369</td>\n",
       "      <td>137437.515</td>\n",
       "    </tr>\n",
       "    <tr>\n",
       "      <th>max</th>\n",
       "      <td>180000000.000</td>\n",
       "      <td>366426481.750</td>\n",
       "      <td>180000000.000</td>\n",
       "      <td>4.287</td>\n",
       "      <td>43.752</td>\n",
       "      <td>12737000.000</td>\n",
       "    </tr>\n",
       "  </tbody>\n",
       "</table>\n",
       "</div>"
      ],
      "text/plain": [
       "      estimatedValue     debtAmount independentValuation longitude  latitude  \\\n",
       "count       8608.000       8608.000             8608.000  8462.000  8462.000   \n",
       "mean      319296.266     369986.822           136561.798    -3.231    39.092   \n",
       "std      2167273.812    5316944.362          2106269.634     4.589     3.455   \n",
       "min            0.000          0.000                0.000   -17.913    27.763   \n",
       "25%        61515.812      19795.408                0.000    -4.831    37.747   \n",
       "50%       152481.500      82469.175                0.000    -3.629    40.055   \n",
       "75%       270982.238     169027.395            40049.448    -0.203    41.369   \n",
       "max    180000000.000  366426481.750        180000000.000     4.287    43.752   \n",
       "\n",
       "             maxBid  \n",
       "count      8608.000  \n",
       "mean     127470.220  \n",
       "std      364756.723  \n",
       "min           0.000  \n",
       "25%       10359.225  \n",
       "50%       67776.955  \n",
       "75%      137437.515  \n",
       "max    12737000.000  "
      ]
     },
     "execution_count": 9,
     "metadata": {},
     "output_type": "execute_result"
    }
   ],
   "source": [
    "auctions.describe().apply(lambda s: s.apply(lambda x: '%.3f' % x))\n"
   ]
  },
  {
   "cell_type": "code",
   "execution_count": null,
   "metadata": {},
   "outputs": [],
   "source": []
  },
  {
   "cell_type": "code",
   "execution_count": 10,
   "metadata": {},
   "outputs": [
    {
     "name": "stderr",
     "output_type": "stream",
     "text": [
      "No handles with labels found to put in legend.\n"
     ]
    },
    {
     "data": {
      "text/plain": [
       "<matplotlib.legend.Legend at 0x111552150>"
      ]
     },
     "execution_count": 10,
     "metadata": {},
     "output_type": "execute_result"
    },
    {
     "data": {
      "image/png": "[encoded data removed]",
      "text/plain": [
       "<Figure size 432x288 with 1 Axes>"
      ]
     },
     "metadata": {
      "needs_background": "light"
     },
     "output_type": "display_data"
    }
   ],
   "source": [
    "auctions.plot(kind=\"scatter\", x=\"longitude\", y=\"latitude\", alpha=0.2)\n",
    "plt.legend()"
   ]
  },
  {
   "cell_type": "markdown",
   "metadata": {},
   "source": [
    "##### Some observations\n",
    "\n",
    "Seems we have the case of heavy tailing in most of the features. Concretely, has a high positive skewness.\n",
    "\n",
    "Originally we were using Postal Code, in a effort to turn it into a continuous variable we leveraged on Goolgle Geocode API to turn it into geographic coordinates.\n",
    "There were some instances where Google was not gicing the right coordinates but this was fixed by passing extra contextual data."
   ]
  },
  {
   "cell_type": "code",
   "execution_count": 11,
   "metadata": {},
   "outputs": [
    {
     "data": {
      "text/plain": [
       "<matplotlib.axes._subplots.AxesSubplot at 0x104f71190>"
      ]
     },
     "execution_count": 11,
     "metadata": {},
     "output_type": "execute_result"
    },
    {
     "data": {
      "image/png": "[encoded data removed]",
      "text/plain": [
       "<Figure size 432x288 with 1 Axes>"
      ]
     },
     "metadata": {
      "needs_background": "light"
     },
     "output_type": "display_data"
    }
   ],
   "source": [
    "auctions.plot(kind=\"scatter\", x=\"estimatedValue\", y=\"debtAmount\", alpha=0.1)"
   ]
  },
  {
   "cell_type": "code",
   "execution_count": 42,
   "metadata": {},
   "outputs": [
    {
     "name": "stdout",
     "output_type": "stream",
     "text": [
      "This many samples with provided data for \"debtAmount\": 8590\n",
      "\n",
      "This many samples with provided data for \"estimatedValue\": 7893\n",
      "\n"
     ]
    }
   ],
   "source": [
    "estimatedValues = auctions[\"estimatedValue\"]\n",
    "debtAmounts = auctions[\"debtAmount\"]\n",
    "\n",
    "count_with_value_estimation = 0\n",
    "count_with_debt_amount = 0\n",
    "\n",
    "for e in estimatedValues:\n",
    "    if e != 0:\n",
    "        count_with_debt_amount += 1\n",
    "\n",
    "for e in debtAmounts:\n",
    "    if e != 0.0:\n",
    "        count_with_value_estimation += 1\n",
    "\n",
    "\n",
    "print(f'This many samples with provided data for \"debtAmount\": {count_with_debt_amount}\\n')\n",
    "\n",
    "print(f'This many samples with provided data for \"estimatedValue\": {count_with_value_estimation}\\n')"
   ]
  },
  {
   "cell_type": "code",
   "execution_count": 52,
   "metadata": {},
   "outputs": [
    {
     "data": {
      "text/html": [
       "<div>\n",
       "<style scoped>\n",
       "    .dataframe tbody tr th:only-of-type {\n",
       "        vertical-align: middle;\n",
       "    }\n",
       "\n",
       "    .dataframe tbody tr th {\n",
       "        vertical-align: top;\n",
       "    }\n",
       "\n",
       "    .dataframe thead th {\n",
       "        text-align: right;\n",
       "    }\n",
       "</style>\n",
       "<table border=\"1\" class=\"dataframe\">\n",
       "  <thead>\n",
       "    <tr style=\"text-align: right;\">\n",
       "      <th></th>\n",
       "      <th>subId</th>\n",
       "      <th>estimatedValue</th>\n",
       "      <th>debtAmount</th>\n",
       "      <th>independentValuation</th>\n",
       "      <th>longitude</th>\n",
       "      <th>latitude</th>\n",
       "      <th>maxBid</th>\n",
       "    </tr>\n",
       "  </thead>\n",
       "  <tbody>\n",
       "  </tbody>\n",
       "</table>\n",
       "</div>"
      ],
      "text/plain": [
       "Empty DataFrame\n",
       "Columns: [subId, estimatedValue, debtAmount, independentValuation, longitude, latitude, maxBid]\n",
       "Index: []"
      ]
     },
     "execution_count": 52,
     "metadata": {},
     "output_type": "execute_result"
    }
   ],
   "source": [
    "auctions.loc[auctions[\"estimatedValue\"] == 0.01]"
   ]
  },
  {
   "cell_type": "code",
   "execution_count": 45,
   "metadata": {},
   "outputs": [
    {
     "data": {
      "text/plain": [
       "0         (11200.0, 17709.176]\n",
       "1          (3004.554, 6990.96]\n",
       "2           (6990.96, 11200.0]\n",
       "3           (6990.96, 11200.0]\n",
       "4           (6990.96, 11200.0]\n",
       "                 ...          \n",
       "8603      (17709.176, 26774.0]\n",
       "8604        (-0.001, 3004.554]\n",
       "8605        (6990.96, 11200.0]\n",
       "8606      (11200.0, 17709.176]\n",
       "8607    (54610.224, 67231.172]\n",
       "Name: estimatedValue, Length: 8608, dtype: category\n",
       "Categories (30, interval[float64]): [(-0.001, 3004.554] < (3004.554, 6990.96] < (6990.96, 11200.0] < (11200.0, 17709.176] ... (395874.0, 479865.915] < (479865.915, 654807.302] < (654807.302, 1214151.19] < (1214151.19, 180000000.0]]"
      ]
     },
     "execution_count": 45,
     "metadata": {},
     "output_type": "execute_result"
    }
   ],
   "source": [
    "# auctions[\"estimatedValue\"].isnull().sum()\n",
    "\n",
    "pd.qcut(auctions[\"estimatedValue\"], 30)"
   ]
  },
  {
   "cell_type": "code",
   "execution_count": null,
   "metadata": {
    "scrolled": false
   },
   "outputs": [],
   "source": []
  },
  {
   "cell_type": "code",
   "execution_count": 187,
   "metadata": {},
   "outputs": [
    {
     "data": {
      "text/plain": [
       "70.73160540465118"
      ]
     },
     "execution_count": 187,
     "metadata": {},
     "output_type": "execute_result"
    }
   ],
   "source": [
    "auctions[\"estimatedValue\"].skew()"
   ]
  },
  {
   "cell_type": "markdown",
   "metadata": {},
   "source": [
    "### Some observations on the previous data\n",
    "\n",
    "Turns out the data it's strongly skewed (positive skew). The purpose of this analysis, is detecting patterns in the auctions to use that intelligence to predict interesting auctions in the future.\n",
    "Given the outliers will be far from our reach in economic terms, the option choosen to get a more normal distribution would be to simply remove those outliers.\n",
    "Same will be done for the elements with a valuation of 0 given this is one of the most important properties in our dataset.\n",
    "\n",
    "<em>**Clarification**: We are talking about repossessed assets with valuations of 2/3 million +. Given that an average person doesn't use all his capital for this type of business, makes sense the decision of removing those elements falling above this threshold.</em>"
   ]
  },
  {
   "cell_type": "code",
   "execution_count": 30,
   "metadata": {},
   "outputs": [
    {
     "name": "stdout",
     "output_type": "stream",
     "text": [
      "7986\n",
      "7986\n"
     ]
    }
   ],
   "source": [
    "EST_VALUE_UPPER_THRESSHOLD = 1500000\n",
    "DEBT_RATIO_UPPER_THRESHOLD = 5\n",
    "\n",
    "auctions_copy = auctions.copy()\n",
    "\n",
    "auctions_copy.drop(\n",
    "    auctions_copy[\n",
    "        (auctions_copy[\"estimatedValue\"] > EST_VALUE_UPPER_THRESSHOLD) |\n",
    "        (auctions_copy[\"estimatedValue\"] == 0) |\n",
    "        (np.isnan(auctions_copy[\"debtAmount\"]) == True) |\n",
    "        (auctions_copy[\"debtAmount\"]/auctions_copy[\"estimatedValue\"] > DEBT_RATIO_UPPER_THRESHOLD)\n",
    "    ].index, inplace=True)\n",
    "\n",
    "print(len(auctions_copy[\"estimatedValue\"]))\n",
    "print(len(auctions_copy[\"debtAmount\"]))"
   ]
  },
  {
   "cell_type": "code",
   "execution_count": 261,
   "metadata": {},
   "outputs": [
    {
     "data": {
      "image/png": "[encoded data removed]",
      "text/plain": [
       "<Figure size 1440x1080 with 6 Axes>"
      ]
     },
     "metadata": {
      "needs_background": "light"
     },
     "output_type": "display_data"
    }
   ],
   "source": [
    "%matplotlib inline\n",
    "\n",
    "auctions_copy.hist(bins=10, figsize=(20,15))\n",
    "plt.show()\n"
   ]
  },
  {
   "cell_type": "code",
   "execution_count": 262,
   "metadata": {},
   "outputs": [
    {
     "name": "stdout",
     "output_type": "stream",
     "text": [
      "7376\n"
     ]
    }
   ],
   "source": [
    "print(len(auctions_copy[\"debtAmount\"]))\n"
   ]
  },
  {
   "cell_type": "code",
   "execution_count": null,
   "metadata": {},
   "outputs": [],
   "source": []
  },
  {
   "cell_type": "code",
   "execution_count": null,
   "metadata": {},
   "outputs": [],
   "source": []
  }
 ],
 "metadata": {
  "kernelspec": {
   "display_name": "Python 3",
   "language": "python",
   "name": "python3"
  },
  "language_info": {
   "codemirror_mode": {
    "name": "ipython",
    "version": 3
   },
   "file_extension": ".py",
   "mimetype": "text/x-python",
   "name": "python",
   "nbconvert_exporter": "python",
   "pygments_lexer": "ipython3",
   "version": "3.7.6"
  }
 },
 "nbformat": 4,
 "nbformat_minor": 2
}
