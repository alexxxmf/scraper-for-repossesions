{
 "cells": [
  {
   "cell_type": "markdown",
   "metadata": {},
   "source": [
    "### Introduction\n",
    "\n",
    "The project we are going to describe in the following lines, it is related with the market for the auctions of repossesed assets. Data is exposed in a public web from the government\n",
    "This document is to draft some initial analysis on the dataset for the auctions to get a better understanding on the data we have but also to explain some of the methods we used for data extraction, processiong, etc.\n",
    "\n",
    "#### Some thoughts\n",
    "\n",
    "Initially we set our expectations quite high with regards to the amount of new data to be ready to be scraped from the auction site. Turns out we deeply overestimated this.\n",
    "Initially expectation was set at around 6000-10000 records per week. At the moment we estimate around 800-1200 per week.\n"
   ]
  },
  {
   "cell_type": "raw",
   "metadata": {},
   "source": [
    "{\n",
    "  \"informacion_general\": {\n",
    "    \"identificador\": \"SUB-AT-2018-18R4586001028\",\n",
    "    \"tipo_de_subasta\": \"AGENCIA TRIBUTARIA\",\n",
    "    \"fecha_de_inicio\": \"30-11-2018 18:00:00 CET (ISO: 2018-11-30T18:00:00+01:00)\",\n",
    "    \"fecha_de_conclusion\": \"20-12-2018 19:00:13 CET (ISO: 2018-12-20T19:00:13+01:00)\",\n",
    "    \"lotes\": \"Sin lotes\",\n",
    "    \"anuncio_boe\": \"BOE-B-2018-56530\",\n",
    "    \"valor_subasta\": \"12.181,52 €\",\n",
    "    \"tasacion\": \"12.181,52 €\",\n",
    "    \"puja_minima\": \"Sin puja mínima\",\n",
    "    \"tramos_entre_pujas\": \"500,00 €\",\n",
    "    \"importe_del_deposito\": \"609,07 €\"\n",
    "  },\n",
    "  \"autoridad_gestora\": {\n",
    "    \"codigo\": \"R45860\",\n",
    "    \"descripcion\": \"U.R. SUBASTAS CASTILLA-MANCHA (AEAT)\",\n",
    "    \"direccion\": \"PZ TENDILLAS 1 ; 45002 TOLEDO\",\n",
    "    \"telefono\": \"925287719\",\n",
    "    \"fax\": \"-\",\n",
    "    \"correo_electronico\": \"subastas.castillalamancha@correo.aeat.es\"\n",
    "  },\n",
    "  \"bienes\": {\n",
    "    \"descripcion\": \"URBANA. GARAJE EN CALLE ANGEL, Nº 19, PLANTA BAJA, SUPERFICIE UTIL, 10,13 M2. CUOTA DE PARTICIPACIÓN DE UN ENTERO Y SEIS CENTESIMAS POR CIENTO.\",\n",
    "    \"idufir\": \"02011000745776\",\n",
    "    \"referencia_catastral\": \"9961014WJ9196B0019UA\",\n",
    "    \"direccion\": \"CL ANGEL 19 0\",\n",
    "    \"codigo_postal\": \"02002\",\n",
    "    \"localidad\": \"ALBACETE\",\n",
    "    \"provincia\": \"Albacete\",\n",
    "    \"situacion_posesoria\": \"No consta\",\n",
    "    \"visitable\": \"No consta\",\n",
    "    \"cargas\": \"0,00 €\",\n",
    "    \"inscripcion_registral\": \"BIEN INSCRITO EN REGISTRO NÚM. 4 DE ALBACETE TOMO: 2373 , FOLIO: 191 , LIBRO: 681. FINCA: 36248 , INSCRIPCIÓN: 1\",\n",
    "    \"titulo_juridico\": \"PLENO DOMINIO\"\n",
    "  },\n",
    "  \"relacionados\": {},\n",
    "  \"pujas\": { \"pujaMaxima\": \"9.000,00 €\" }\n",
    "}\n"
   ]
  },
  {
   "cell_type": "code",
   "execution_count": 8,
   "metadata": {},
   "outputs": [
    {
     "ename": "SyntaxError",
     "evalue": "non-default argument follows default argument (<ipython-input-8-20cccbad7c23>, line 7)",
     "output_type": "error",
     "traceback": [
      "\u001b[0;36m  File \u001b[0;32m\"<ipython-input-8-20cccbad7c23>\"\u001b[0;36m, line \u001b[0;32m7\u001b[0m\n\u001b[0;31m    def loading_auction_data(path=PATH_TO_CSVS, filename):\u001b[0m\n\u001b[0m                            ^\u001b[0m\n\u001b[0;31mSyntaxError\u001b[0m\u001b[0;31m:\u001b[0m non-default argument follows default argument\n"
     ]
    }
   ],
   "source": [
    "import pandas as pd\n",
    "import os\n",
    "\n",
    "ROOT_DIR = os.getcwd()\n",
    "PATH_TO_CSVS = ROOT_DIR + 'results/csv'\n",
    "\n",
    "def loading_auction_data(filename, path=PATH_TO_CSVS):\n",
    "    csv_path = os.path.join(path, filename)\n",
    "    return pd.read_csv(csv_path)\n",
    "\n",
    "loading_auction_data(\"allAuctions.csv\")"
   ]
  },
  {
   "cell_type": "code",
   "execution_count": null,
   "metadata": {},
   "outputs": [],
   "source": []
  }
 ],
 "metadata": {
  "kernelspec": {
   "display_name": "Python 3",
   "language": "python",
   "name": "python3"
  },
  "language_info": {
   "codemirror_mode": {
    "name": "ipython",
    "version": 3
   },
   "file_extension": ".py",
   "mimetype": "text/x-python",
   "name": "python",
   "nbconvert_exporter": "python",
   "pygments_lexer": "ipython3",
   "version": "3.7.6"
  }
 },
 "nbformat": 4,
 "nbformat_minor": 2
}
