{
 "cells": [
  {
   "cell_type": "markdown",
   "metadata": {},
   "source": [
    "### Introduction\n",
    "\n",
    "The project we are going to describe in the following lines, it is related with the market for the auctions of repossesed assets. Data is exposed in a public web from the government\n",
    "This document is to draft some initial analysis on the dataset for the auctions to get a better understanding on the data we have but also to explain some of the methods we used for data extraction, processiong, etc.\n",
    "\n",
    "#### Some thoughts\n",
    "\n",
    "Initially we set our expectations quite high with regards to the amount of new data to be ready to be scraped from the auction site. Turns out we deeply overestimated this.\n",
    "Initially expectation was set at around 6000-10000 records per week. At the moment we estimate around 800-1200 per week.\n"
   ]
  },
  {
   "cell_type": "code",
   "execution_count": 51,
   "metadata": {},
   "outputs": [],
   "source": [
    "# Imports\n",
    "import json\n",
    "import pandas as pd\n",
    "import os\n",
    "import matplotlib.pyplot as plt"
   ]
  },
  {
   "cell_type": "code",
   "execution_count": 27,
   "metadata": {},
   "outputs": [],
   "source": [
    "# Constants\n",
    "ROOT_DIR = os.getcwd()\n",
    "PATH_TO_CSVS = os.path.join(ROOT_DIR, \"results/csv\")"
   ]
  },
  {
   "cell_type": "markdown",
   "metadata": {},
   "source": [
    "The following is an example on how the data looks like.\n",
    "\n",
    "In this case, it is a JSON file for a single auction item."
   ]
  },
  {
   "cell_type": "code",
   "execution_count": 30,
   "metadata": {
    "scrolled": false
   },
   "outputs": [
    {
     "name": "stdout",
     "output_type": "stream",
     "text": [
      "{\n",
      "    \"autoridad_gestora\": {\n",
      "        \"codigo\": \"R45860\",\n",
      "        \"correo_electronico\": \"subastas.castillalamancha@correo.aeat.es\",\n",
      "        \"descripcion\": \"U.R. SUBASTAS CASTILLA-MANCHA (AEAT)\",\n",
      "        \"direccion\": \"PZ TENDILLAS 1 ; 45002 TOLEDO\",\n",
      "        \"fax\": \"-\",\n",
      "        \"telefono\": \"925287719\"\n",
      "    },\n",
      "    \"bienes\": {\n",
      "        \"cargas\": \"0,00 \\u20ac\",\n",
      "        \"codigo_postal\": \"02002\",\n",
      "        \"descripcion\": \"URBANA. GARAJE EN CALLE ANGEL, N\\u00ba 19, PLANTA BAJA, SUPERFICIE UTIL, 10,13 M2. CUOTA DE PARTICIPACI\\u00d3N DE UN ENTERO Y SEIS CENTESIMAS POR CIENTO.\",\n",
      "        \"direccion\": \"CL ANGEL 19 0\",\n",
      "        \"idufir\": \"02011000745776\",\n",
      "        \"inscripcion_registral\": \"BIEN INSCRITO EN REGISTRO N\\u00daM. 4 DE ALBACETE TOMO: 2373 , FOLIO: 191 , LIBRO: 681. FINCA: 36248 , INSCRIPCI\\u00d3N: 1\",\n",
      "        \"localidad\": \"ALBACETE\",\n",
      "        \"provincia\": \"Albacete\",\n",
      "        \"referencia_catastral\": \"9961014WJ9196B0019UA\",\n",
      "        \"situacion_posesoria\": \"No consta\",\n",
      "        \"titulo_juridico\": \"PLENO DOMINIO\",\n",
      "        \"visitable\": \"No consta\"\n",
      "    },\n",
      "    \"informacion_general\": {\n",
      "        \"anuncio_boe\": \"BOE-B-2018-56530\",\n",
      "        \"fecha_de_conclusion\": \"20-12-2018 19:00:13 CET (ISO: 2018-12-20T19:00:13+01:00)\",\n",
      "        \"fecha_de_inicio\": \"30-11-2018 18:00:00 CET (ISO: 2018-11-30T18:00:00+01:00)\",\n",
      "        \"identificador\": \"SUB-AT-2018-18R4586001028\",\n",
      "        \"importe_del_deposito\": \"609,07 \\u20ac\",\n",
      "        \"lotes\": \"Sin lotes\",\n",
      "        \"puja_minima\": \"Sin puja m\\u00ednima\",\n",
      "        \"tasacion\": \"12.181,52 \\u20ac\",\n",
      "        \"tipo_de_subasta\": \"AGENCIA TRIBUTARIA\",\n",
      "        \"tramos_entre_pujas\": \"500,00 \\u20ac\",\n",
      "        \"valor_subasta\": \"12.181,52 \\u20ac\"\n",
      "    },\n",
      "    \"pujas\": {\n",
      "        \"pujaMaxima\": \"9.000,00 \\u20ac\"\n",
      "    },\n",
      "    \"relacionados\": {}\n",
      "}\n"
     ]
    }
   ],
   "source": [
    "path_to_example = os.path.join(ROOT_DIR, \"results/details/SUB-AT-2018-18R4586001028.json\")\n",
    "\n",
    "with open(path_to_example) as file:\n",
    "    jsonData = json.load(file)\n",
    "\n",
    "print(json.dumps(jsonData, indent=4, sort_keys=True)) "
   ]
  },
  {
   "cell_type": "code",
   "execution_count": 12,
   "metadata": {},
   "outputs": [
    {
     "data": {
      "text/html": [
       "<div>\n",
       "<style scoped>\n",
       "    .dataframe tbody tr th:only-of-type {\n",
       "        vertical-align: middle;\n",
       "    }\n",
       "\n",
       "    .dataframe tbody tr th {\n",
       "        vertical-align: top;\n",
       "    }\n",
       "\n",
       "    .dataframe thead th {\n",
       "        text-align: right;\n",
       "    }\n",
       "</style>\n",
       "<table border=\"1\" class=\"dataframe\">\n",
       "  <thead>\n",
       "    <tr style=\"text-align: right;\">\n",
       "      <th></th>\n",
       "      <th>subId</th>\n",
       "      <th>estimatedValue</th>\n",
       "      <th>debtAmount</th>\n",
       "      <th>independentValuation</th>\n",
       "      <th>province</th>\n",
       "      <th>postalCode</th>\n",
       "      <th>maxBid</th>\n",
       "    </tr>\n",
       "  </thead>\n",
       "  <tbody>\n",
       "    <tr>\n",
       "      <th>0</th>\n",
       "      <td>SUB-AT-2018-18R4586001028</td>\n",
       "      <td>12181.52</td>\n",
       "      <td>NaN</td>\n",
       "      <td>12181.52</td>\n",
       "      <td>albacete</td>\n",
       "      <td>2002.0</td>\n",
       "      <td>9000.0</td>\n",
       "    </tr>\n",
       "    <tr>\n",
       "      <th>1</th>\n",
       "      <td>SUB-AT-2018-18R4586001048</td>\n",
       "      <td>4576.13</td>\n",
       "      <td>NaN</td>\n",
       "      <td>4576.13</td>\n",
       "      <td>ciudad_real</td>\n",
       "      <td>13500.0</td>\n",
       "      <td>1000.0</td>\n",
       "    </tr>\n",
       "    <tr>\n",
       "      <th>2</th>\n",
       "      <td>SUB-AT-2018-18R4686001043</td>\n",
       "      <td>7353.38</td>\n",
       "      <td>NaN</td>\n",
       "      <td>7353.38</td>\n",
       "      <td>valencia</td>\n",
       "      <td>46701.0</td>\n",
       "      <td>2500.0</td>\n",
       "    </tr>\n",
       "    <tr>\n",
       "      <th>3</th>\n",
       "      <td>SUB-AT-2018-18R4686001051</td>\n",
       "      <td>7353.38</td>\n",
       "      <td>NaN</td>\n",
       "      <td>7353.38</td>\n",
       "      <td>valencia</td>\n",
       "      <td>46701.0</td>\n",
       "      <td>3500.0</td>\n",
       "    </tr>\n",
       "    <tr>\n",
       "      <th>4</th>\n",
       "      <td>SUB-AT-2019-18R2886001150</td>\n",
       "      <td>7125.00</td>\n",
       "      <td>NaN</td>\n",
       "      <td>7125.00</td>\n",
       "      <td>madrid</td>\n",
       "      <td>28830.0</td>\n",
       "      <td>4000.0</td>\n",
       "    </tr>\n",
       "  </tbody>\n",
       "</table>\n",
       "</div>"
      ],
      "text/plain": [
       "                       subId  estimatedValue  debtAmount  \\\n",
       "0  SUB-AT-2018-18R4586001028        12181.52         NaN   \n",
       "1  SUB-AT-2018-18R4586001048         4576.13         NaN   \n",
       "2  SUB-AT-2018-18R4686001043         7353.38         NaN   \n",
       "3  SUB-AT-2018-18R4686001051         7353.38         NaN   \n",
       "4  SUB-AT-2019-18R2886001150         7125.00         NaN   \n",
       "\n",
       "   independentValuation     province  postalCode  maxBid  \n",
       "0              12181.52     albacete      2002.0  9000.0  \n",
       "1               4576.13  ciudad_real     13500.0  1000.0  \n",
       "2               7353.38     valencia     46701.0  2500.0  \n",
       "3               7353.38     valencia     46701.0  3500.0  \n",
       "4               7125.00       madrid     28830.0  4000.0  "
      ]
     },
     "execution_count": 12,
     "metadata": {},
     "output_type": "execute_result"
    }
   ],
   "source": [
    "def loading_auction_data(filename, path=PATH_TO_CSVS):\n",
    "    csv_path = os.path.join(path, filename)\n",
    "    return pd.read_csv(csv_path)\n",
    "\n",
    "auctions = loading_auction_data(\"allAuctions.csv\")\n",
    "auctions.head()"
   ]
  },
  {
   "cell_type": "code",
   "execution_count": 31,
   "metadata": {},
   "outputs": [
    {
     "name": "stdout",
     "output_type": "stream",
     "text": [
      "<class 'pandas.core.frame.DataFrame'>\n",
      "RangeIndex: 8512 entries, 0 to 8511\n",
      "Data columns (total 7 columns):\n",
      "subId                   8512 non-null object\n",
      "estimatedValue          8512 non-null float64\n",
      "debtAmount              7985 non-null float64\n",
      "independentValuation    8512 non-null float64\n",
      "province                8510 non-null object\n",
      "postalCode              8367 non-null float64\n",
      "maxBid                  8512 non-null float64\n",
      "dtypes: float64(5), object(2)\n",
      "memory usage: 465.6+ KB\n"
     ]
    }
   ],
   "source": [
    "auctions.info()"
   ]
  },
  {
   "cell_type": "code",
   "execution_count": 33,
   "metadata": {},
   "outputs": [
    {
     "name": "stdout",
     "output_type": "stream",
     "text": [
      "<class 'pandas.core.frame.DataFrame'>\n",
      "RangeIndex: 8512 entries, 0 to 8511\n",
      "Data columns (total 7 columns):\n",
      "subId                   8512 non-null object\n",
      "estimatedValue          8512 non-null float64\n",
      "debtAmount              7985 non-null float64\n",
      "independentValuation    8512 non-null float64\n",
      "province                8510 non-null object\n",
      "postalCode              8367 non-null float64\n",
      "maxBid                  8512 non-null float64\n",
      "dtypes: float64(5), object(2)\n",
      "memory usage: 465.6+ KB\n",
      "['__bool__', '__class__', '__delattr__', '__dir__', '__doc__', '__eq__', '__format__', '__ge__', '__getattribute__', '__gt__', '__hash__', '__init__', '__init_subclass__', '__le__', '__lt__', '__ne__', '__new__', '__reduce__', '__reduce_ex__', '__repr__', '__setattr__', '__sizeof__', '__str__', '__subclasshook__']\n"
     ]
    }
   ],
   "source": [
    "auctions.info()"
   ]
  },
  {
   "cell_type": "code",
   "execution_count": 40,
   "metadata": {},
   "outputs": [
    {
     "name": "stdout",
     "output_type": "stream",
     "text": [
      "\n",
      "For the current file, we have 93.81% of samples with the amount of debt provided(claimable by debtor)\n",
      "\n"
     ]
    }
   ],
   "source": [
    "percentage_with_debt_amount = round(7985/8512 * 100, 2)\n",
    "\n",
    "print(f'\\nFor the current file, we have {percentage_with_debt_amount}% of samples with the amount of debt provided(claimable by debtor)\\n')\n"
   ]
  },
  {
   "cell_type": "code",
   "execution_count": 50,
   "metadata": {},
   "outputs": [
    {
     "data": {
      "text/html": [
       "<div>\n",
       "<style scoped>\n",
       "    .dataframe tbody tr th:only-of-type {\n",
       "        vertical-align: middle;\n",
       "    }\n",
       "\n",
       "    .dataframe tbody tr th {\n",
       "        vertical-align: top;\n",
       "    }\n",
       "\n",
       "    .dataframe thead th {\n",
       "        text-align: right;\n",
       "    }\n",
       "</style>\n",
       "<table border=\"1\" class=\"dataframe\">\n",
       "  <thead>\n",
       "    <tr style=\"text-align: right;\">\n",
       "      <th></th>\n",
       "      <th>estimatedValue</th>\n",
       "      <th>debtAmount</th>\n",
       "      <th>independentValuation</th>\n",
       "      <th>postalCode</th>\n",
       "      <th>maxBid</th>\n",
       "    </tr>\n",
       "  </thead>\n",
       "  <tbody>\n",
       "    <tr>\n",
       "      <th>count</th>\n",
       "      <td>8512.000</td>\n",
       "      <td>7985.000</td>\n",
       "      <td>8512.000</td>\n",
       "      <td>8367.000</td>\n",
       "      <td>8512.000</td>\n",
       "    </tr>\n",
       "    <tr>\n",
       "      <th>mean</th>\n",
       "      <td>315594.369</td>\n",
       "      <td>393721.769</td>\n",
       "      <td>137357.549</td>\n",
       "      <td>24834.215</td>\n",
       "      <td>128362.413</td>\n",
       "    </tr>\n",
       "    <tr>\n",
       "      <th>std</th>\n",
       "      <td>2139440.671</td>\n",
       "      <td>5513261.843</td>\n",
       "      <td>2118014.959</td>\n",
       "      <td>14429.506</td>\n",
       "      <td>366445.454</td>\n",
       "    </tr>\n",
       "    <tr>\n",
       "      <th>min</th>\n",
       "      <td>0.000</td>\n",
       "      <td>0.000</td>\n",
       "      <td>0.000</td>\n",
       "      <td>1001.000</td>\n",
       "      <td>0.000</td>\n",
       "    </tr>\n",
       "    <tr>\n",
       "      <th>25%</th>\n",
       "      <td>62135.765</td>\n",
       "      <td>30000.000</td>\n",
       "      <td>0.000</td>\n",
       "      <td>8921.000</td>\n",
       "      <td>11000.000</td>\n",
       "    </tr>\n",
       "    <tr>\n",
       "      <th>50%</th>\n",
       "      <td>153000.000</td>\n",
       "      <td>91257.120</td>\n",
       "      <td>0.000</td>\n",
       "      <td>28024.000</td>\n",
       "      <td>68809.895</td>\n",
       "    </tr>\n",
       "    <tr>\n",
       "      <th>75%</th>\n",
       "      <td>271177.065</td>\n",
       "      <td>177478.680</td>\n",
       "      <td>40000.000</td>\n",
       "      <td>38390.000</td>\n",
       "      <td>138223.000</td>\n",
       "    </tr>\n",
       "    <tr>\n",
       "      <th>max</th>\n",
       "      <td>180000000.000</td>\n",
       "      <td>366426481.750</td>\n",
       "      <td>180000000.000</td>\n",
       "      <td>52006.000</td>\n",
       "      <td>12737000.000</td>\n",
       "    </tr>\n",
       "  </tbody>\n",
       "</table>\n",
       "</div>"
      ],
      "text/plain": [
       "      estimatedValue     debtAmount independentValuation postalCode  \\\n",
       "count       8512.000       7985.000             8512.000   8367.000   \n",
       "mean      315594.369     393721.769           137357.549  24834.215   \n",
       "std      2139440.671    5513261.843          2118014.959  14429.506   \n",
       "min            0.000          0.000                0.000   1001.000   \n",
       "25%        62135.765      30000.000                0.000   8921.000   \n",
       "50%       153000.000      91257.120                0.000  28024.000   \n",
       "75%       271177.065     177478.680            40000.000  38390.000   \n",
       "max    180000000.000  366426481.750        180000000.000  52006.000   \n",
       "\n",
       "             maxBid  \n",
       "count      8512.000  \n",
       "mean     128362.413  \n",
       "std      366445.454  \n",
       "min           0.000  \n",
       "25%       11000.000  \n",
       "50%       68809.895  \n",
       "75%      138223.000  \n",
       "max    12737000.000  "
      ]
     },
     "execution_count": 50,
     "metadata": {},
     "output_type": "execute_result"
    }
   ],
   "source": [
    "auctions.describe().apply(lambda s: s.apply(lambda x: '%.3f' % x))\n"
   ]
  },
  {
   "cell_type": "code",
   "execution_count": 54,
   "metadata": {},
   "outputs": [
    {
     "data": {
      "image/png": "[encoded data removed]",
      "text/plain": [
       "<Figure size 1440x1080 with 6 Axes>"
      ]
     },
     "metadata": {
      "needs_background": "light"
     },
     "output_type": "display_data"
    }
   ],
   "source": [
    "%matplotlib inline\n",
    "\n",
    "auctions.hist(bins=50, figsize=(20,15))\n",
    "plt.show()"
   ]
  },
  {
   "cell_type": "code",
   "execution_count": null,
   "metadata": {},
   "outputs": [],
   "source": []
  }
 ],
 "metadata": {
  "kernelspec": {
   "display_name": "Python 3",
   "language": "python",
   "name": "python3"
  },
  "language_info": {
   "codemirror_mode": {
    "name": "ipython",
    "version": 3
   },
   "file_extension": ".py",
   "mimetype": "text/x-python",
   "name": "python",
   "nbconvert_exporter": "python",
   "pygments_lexer": "ipython3",
   "version": "3.7.6"
  }
 },
 "nbformat": 4,
 "nbformat_minor": 2
}
