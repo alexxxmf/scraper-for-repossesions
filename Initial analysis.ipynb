{
 "cells": [
  {
   "cell_type": "markdown",
   "metadata": {},
   "source": [
    "### Introduction\n",
    "\n",
    "The project we are going to describe in the following lines, it is related with the market for the auctions of repossesed assets. Data is exposed in a public web from the government\n",
    "This document is to draft some initial analysis on the dataset for the auctions to get a better understanding on the data we have but also to explain some of the methods we used for data extraction, processiong, etc.\n",
    "\n",
    "#### Some thoughts\n",
    "\n",
    "Initially we set our expectations quite high with regards to the amount of new data to be ready to be scraped from the auction site. Turns out we deeply overestimated this.\n",
    "Initially expectation was set at around 6000-10000 records per week. At the moment we estimate around 800-1200 per week.\n"
   ]
  },
  {
   "cell_type": "code",
   "execution_count": 1,
   "metadata": {},
   "outputs": [],
   "source": [
    "# Imports\n",
    "import json\n",
    "import pandas as pd\n",
    "import os\n",
    "import matplotlib.pyplot as plt\n",
    "import numpy as np"
   ]
  },
  {
   "cell_type": "code",
   "execution_count": 2,
   "metadata": {},
   "outputs": [],
   "source": [
    "# Constants\n",
    "ROOT_DIR = os.getcwd()\n",
    "PATH_TO_CSVS = os.path.join(ROOT_DIR, \"results/csv\")"
   ]
  },
  {
   "cell_type": "markdown",
   "metadata": {},
   "source": [
    "The following is an example on how the data looks like.\n",
    "\n",
    "In this case, it is a JSON file for a single auction item."
   ]
  },
  {
   "cell_type": "code",
   "execution_count": 3,
   "metadata": {
    "scrolled": false
   },
   "outputs": [
    {
     "name": "stdout",
     "output_type": "stream",
     "text": [
      "{\n",
      "    \"autoridad_gestora\": {\n",
      "        \"codigo\": \"R45860\",\n",
      "        \"correo_electronico\": \"subastas.castillalamancha@correo.aeat.es\",\n",
      "        \"descripcion\": \"U.R. SUBASTAS CASTILLA-MANCHA (AEAT)\",\n",
      "        \"direccion\": \"PZ TENDILLAS 1 ; 45002 TOLEDO\",\n",
      "        \"fax\": \"-\",\n",
      "        \"telefono\": \"925287719\"\n",
      "    },\n",
      "    \"bienes\": {\n",
      "        \"cargas\": \"0,00 \\u20ac\",\n",
      "        \"codigo_postal\": \"02002\",\n",
      "        \"descripcion\": \"URBANA. GARAJE EN CALLE ANGEL, N\\u00ba 19, PLANTA BAJA, SUPERFICIE UTIL, 10,13 M2. CUOTA DE PARTICIPACI\\u00d3N DE UN ENTERO Y SEIS CENTESIMAS POR CIENTO.\",\n",
      "        \"direccion\": \"CL ANGEL 19 0\",\n",
      "        \"idufir\": \"02011000745776\",\n",
      "        \"inscripcion_registral\": \"BIEN INSCRITO EN REGISTRO N\\u00daM. 4 DE ALBACETE TOMO: 2373 , FOLIO: 191 , LIBRO: 681. FINCA: 36248 , INSCRIPCI\\u00d3N: 1\",\n",
      "        \"localidad\": \"ALBACETE\",\n",
      "        \"provincia\": \"Albacete\",\n",
      "        \"referencia_catastral\": \"9961014WJ9196B0019UA\",\n",
      "        \"situacion_posesoria\": \"No consta\",\n",
      "        \"titulo_juridico\": \"PLENO DOMINIO\",\n",
      "        \"visitable\": \"No consta\"\n",
      "    },\n",
      "    \"informacion_general\": {\n",
      "        \"anuncio_boe\": \"BOE-B-2018-56530\",\n",
      "        \"fecha_de_conclusion\": \"20-12-2018 19:00:13 CET (ISO: 2018-12-20T19:00:13+01:00)\",\n",
      "        \"fecha_de_inicio\": \"30-11-2018 18:00:00 CET (ISO: 2018-11-30T18:00:00+01:00)\",\n",
      "        \"identificador\": \"SUB-AT-2018-18R4586001028\",\n",
      "        \"importe_del_deposito\": \"609,07 \\u20ac\",\n",
      "        \"lotes\": \"Sin lotes\",\n",
      "        \"puja_minima\": \"Sin puja m\\u00ednima\",\n",
      "        \"tasacion\": \"12.181,52 \\u20ac\",\n",
      "        \"tipo_de_subasta\": \"AGENCIA TRIBUTARIA\",\n",
      "        \"tramos_entre_pujas\": \"500,00 \\u20ac\",\n",
      "        \"valor_subasta\": \"12.181,52 \\u20ac\"\n",
      "    },\n",
      "    \"pujas\": {\n",
      "        \"pujaMaxima\": \"9.000,00 \\u20ac\"\n",
      "    },\n",
      "    \"relacionados\": {}\n",
      "}\n"
     ]
    }
   ],
   "source": [
    "path_to_example = os.path.join(ROOT_DIR, \"results/details/SUB-AT-2018-18R4586001028.json\")\n",
    "\n",
    "with open(path_to_example) as file:\n",
    "    jsonData = json.load(file)\n",
    "\n",
    "print(json.dumps(jsonData, indent=4, sort_keys=True)) "
   ]
  },
  {
   "cell_type": "code",
   "execution_count": 7,
   "metadata": {},
   "outputs": [
    {
     "data": {
      "text/html": [
       "<div>\n",
       "<style scoped>\n",
       "    .dataframe tbody tr th:only-of-type {\n",
       "        vertical-align: middle;\n",
       "    }\n",
       "\n",
       "    .dataframe tbody tr th {\n",
       "        vertical-align: top;\n",
       "    }\n",
       "\n",
       "    .dataframe thead th {\n",
       "        text-align: right;\n",
       "    }\n",
       "</style>\n",
       "<table border=\"1\" class=\"dataframe\">\n",
       "  <thead>\n",
       "    <tr style=\"text-align: right;\">\n",
       "      <th></th>\n",
       "      <th>subId</th>\n",
       "      <th>estimatedValue</th>\n",
       "      <th>debtAmount</th>\n",
       "      <th>independentValuation</th>\n",
       "      <th>longitude</th>\n",
       "      <th>latitude</th>\n",
       "      <th>maxBid</th>\n",
       "    </tr>\n",
       "  </thead>\n",
       "  <tbody>\n",
       "    <tr>\n",
       "      <th>0</th>\n",
       "      <td>SUB-AT-2018-18R4586001028</td>\n",
       "      <td>12181.52</td>\n",
       "      <td>NaN</td>\n",
       "      <td>12181.52</td>\n",
       "      <td>-1.852563</td>\n",
       "      <td>38.987367</td>\n",
       "      <td>9000.0</td>\n",
       "    </tr>\n",
       "    <tr>\n",
       "      <th>1</th>\n",
       "      <td>SUB-AT-2018-18R4586001048</td>\n",
       "      <td>4576.13</td>\n",
       "      <td>NaN</td>\n",
       "      <td>4576.13</td>\n",
       "      <td>-4.105331</td>\n",
       "      <td>38.691151</td>\n",
       "      <td>1000.0</td>\n",
       "    </tr>\n",
       "    <tr>\n",
       "      <th>2</th>\n",
       "      <td>SUB-AT-2018-18R4686001043</td>\n",
       "      <td>7353.38</td>\n",
       "      <td>NaN</td>\n",
       "      <td>7353.38</td>\n",
       "      <td>-0.179937</td>\n",
       "      <td>38.974495</td>\n",
       "      <td>2500.0</td>\n",
       "    </tr>\n",
       "    <tr>\n",
       "      <th>3</th>\n",
       "      <td>SUB-AT-2018-18R4686001051</td>\n",
       "      <td>7353.38</td>\n",
       "      <td>NaN</td>\n",
       "      <td>7353.38</td>\n",
       "      <td>-0.179937</td>\n",
       "      <td>38.974495</td>\n",
       "      <td>3500.0</td>\n",
       "    </tr>\n",
       "    <tr>\n",
       "      <th>4</th>\n",
       "      <td>SUB-AT-2019-18R2886001150</td>\n",
       "      <td>7125.00</td>\n",
       "      <td>NaN</td>\n",
       "      <td>7125.00</td>\n",
       "      <td>-3.510454</td>\n",
       "      <td>40.429053</td>\n",
       "      <td>4000.0</td>\n",
       "    </tr>\n",
       "    <tr>\n",
       "      <th>5</th>\n",
       "      <td>SUB-AT-2019-18R2986001186</td>\n",
       "      <td>36262.40</td>\n",
       "      <td>NaN</td>\n",
       "      <td>36262.40</td>\n",
       "      <td>-4.541814</td>\n",
       "      <td>37.359843</td>\n",
       "      <td>16000.0</td>\n",
       "    </tr>\n",
       "    <tr>\n",
       "      <th>6</th>\n",
       "      <td>SUB-AT-2019-18R4686001213</td>\n",
       "      <td>8984.52</td>\n",
       "      <td>NaN</td>\n",
       "      <td>8984.52</td>\n",
       "      <td>-0.172911</td>\n",
       "      <td>38.992762</td>\n",
       "      <td>3000.0</td>\n",
       "    </tr>\n",
       "    <tr>\n",
       "      <th>7</th>\n",
       "      <td>SUB-AT-2019-19R0686001032</td>\n",
       "      <td>220080.00</td>\n",
       "      <td>NaN</td>\n",
       "      <td>220080.00</td>\n",
       "      <td>-3.710512</td>\n",
       "      <td>40.430454</td>\n",
       "      <td>382000.0</td>\n",
       "    </tr>\n",
       "    <tr>\n",
       "      <th>8</th>\n",
       "      <td>SUB-AT-2019-19R0886001022</td>\n",
       "      <td>374573.44</td>\n",
       "      <td>NaN</td>\n",
       "      <td>522241.43</td>\n",
       "      <td>2.071422</td>\n",
       "      <td>41.527668</td>\n",
       "      <td>294000.0</td>\n",
       "    </tr>\n",
       "    <tr>\n",
       "      <th>9</th>\n",
       "      <td>SUB-AT-2019-19R0886001080</td>\n",
       "      <td>312777.95</td>\n",
       "      <td>NaN</td>\n",
       "      <td>312777.95</td>\n",
       "      <td>1.337282</td>\n",
       "      <td>41.623367</td>\n",
       "      <td>142000.0</td>\n",
       "    </tr>\n",
       "  </tbody>\n",
       "</table>\n",
       "</div>"
      ],
      "text/plain": [
       "                       subId  estimatedValue  debtAmount  \\\n",
       "0  SUB-AT-2018-18R4586001028        12181.52         NaN   \n",
       "1  SUB-AT-2018-18R4586001048         4576.13         NaN   \n",
       "2  SUB-AT-2018-18R4686001043         7353.38         NaN   \n",
       "3  SUB-AT-2018-18R4686001051         7353.38         NaN   \n",
       "4  SUB-AT-2019-18R2886001150         7125.00         NaN   \n",
       "5  SUB-AT-2019-18R2986001186        36262.40         NaN   \n",
       "6  SUB-AT-2019-18R4686001213         8984.52         NaN   \n",
       "7  SUB-AT-2019-19R0686001032       220080.00         NaN   \n",
       "8  SUB-AT-2019-19R0886001022       374573.44         NaN   \n",
       "9  SUB-AT-2019-19R0886001080       312777.95         NaN   \n",
       "\n",
       "   independentValuation  longitude   latitude    maxBid  \n",
       "0              12181.52  -1.852563  38.987367    9000.0  \n",
       "1               4576.13  -4.105331  38.691151    1000.0  \n",
       "2               7353.38  -0.179937  38.974495    2500.0  \n",
       "3               7353.38  -0.179937  38.974495    3500.0  \n",
       "4               7125.00  -3.510454  40.429053    4000.0  \n",
       "5              36262.40  -4.541814  37.359843   16000.0  \n",
       "6               8984.52  -0.172911  38.992762    3000.0  \n",
       "7             220080.00  -3.710512  40.430454  382000.0  \n",
       "8             522241.43   2.071422  41.527668  294000.0  \n",
       "9             312777.95   1.337282  41.623367  142000.0  "
      ]
     },
     "execution_count": 7,
     "metadata": {},
     "output_type": "execute_result"
    }
   ],
   "source": [
    "def loading_auction_data(filename, path=PATH_TO_CSVS):\n",
    "    csv_path = os.path.join(path, filename)\n",
    "    return pd.read_csv(csv_path)\n",
    "\n",
    "auctions = loading_auction_data(\"allAuctions1.csv\")\n",
    "auctions.head(10)"
   ]
  },
  {
   "cell_type": "code",
   "execution_count": 101,
   "metadata": {},
   "outputs": [
    {
     "name": "stdout",
     "output_type": "stream",
     "text": [
      "<class 'pandas.core.frame.DataFrame'>\n",
      "RangeIndex: 8512 entries, 0 to 8511\n",
      "Data columns (total 7 columns):\n",
      "subId                   8512 non-null object\n",
      "estimatedValue          8512 non-null float64\n",
      "debtAmount              7985 non-null float64\n",
      "independentValuation    8512 non-null float64\n",
      "province                8510 non-null object\n",
      "postalCode              8367 non-null float64\n",
      "maxBid                  8512 non-null float64\n",
      "dtypes: float64(5), object(2)\n",
      "memory usage: 465.6+ KB\n"
     ]
    }
   ],
   "source": [
    "auctions.info()"
   ]
  },
  {
   "cell_type": "code",
   "execution_count": 102,
   "metadata": {},
   "outputs": [
    {
     "name": "stdout",
     "output_type": "stream",
     "text": [
      "<class 'pandas.core.frame.DataFrame'>\n",
      "RangeIndex: 8512 entries, 0 to 8511\n",
      "Data columns (total 7 columns):\n",
      "subId                   8512 non-null object\n",
      "estimatedValue          8512 non-null float64\n",
      "debtAmount              7985 non-null float64\n",
      "independentValuation    8512 non-null float64\n",
      "province                8510 non-null object\n",
      "postalCode              8367 non-null float64\n",
      "maxBid                  8512 non-null float64\n",
      "dtypes: float64(5), object(2)\n",
      "memory usage: 465.6+ KB\n"
     ]
    }
   ],
   "source": [
    "auctions.info()"
   ]
  },
  {
   "cell_type": "code",
   "execution_count": 103,
   "metadata": {},
   "outputs": [
    {
     "name": "stdout",
     "output_type": "stream",
     "text": [
      "\n",
      "For the current file, we have 93.81% of samples with the amount of debt provided(claimable by debtor)\n",
      "\n"
     ]
    }
   ],
   "source": [
    "percentage_with_debt_amount = round(7985/8512 * 100, 2)\n",
    "\n",
    "print(f'\\nFor the current file, we have {percentage_with_debt_amount}% of samples with the amount of debt provided(claimable by debtor)\\n')\n"
   ]
  },
  {
   "cell_type": "code",
   "execution_count": 104,
   "metadata": {},
   "outputs": [
    {
     "data": {
      "text/html": [
       "<div>\n",
       "<style scoped>\n",
       "    .dataframe tbody tr th:only-of-type {\n",
       "        vertical-align: middle;\n",
       "    }\n",
       "\n",
       "    .dataframe tbody tr th {\n",
       "        vertical-align: top;\n",
       "    }\n",
       "\n",
       "    .dataframe thead th {\n",
       "        text-align: right;\n",
       "    }\n",
       "</style>\n",
       "<table border=\"1\" class=\"dataframe\">\n",
       "  <thead>\n",
       "    <tr style=\"text-align: right;\">\n",
       "      <th></th>\n",
       "      <th>estimatedValue</th>\n",
       "      <th>debtAmount</th>\n",
       "      <th>independentValuation</th>\n",
       "      <th>postalCode</th>\n",
       "      <th>maxBid</th>\n",
       "    </tr>\n",
       "  </thead>\n",
       "  <tbody>\n",
       "    <tr>\n",
       "      <th>count</th>\n",
       "      <td>8512.000</td>\n",
       "      <td>7985.000</td>\n",
       "      <td>8512.000</td>\n",
       "      <td>8367.000</td>\n",
       "      <td>8512.000</td>\n",
       "    </tr>\n",
       "    <tr>\n",
       "      <th>mean</th>\n",
       "      <td>315594.369</td>\n",
       "      <td>393721.769</td>\n",
       "      <td>137357.549</td>\n",
       "      <td>24834.215</td>\n",
       "      <td>128362.413</td>\n",
       "    </tr>\n",
       "    <tr>\n",
       "      <th>std</th>\n",
       "      <td>2139440.671</td>\n",
       "      <td>5513261.843</td>\n",
       "      <td>2118014.959</td>\n",
       "      <td>14429.506</td>\n",
       "      <td>366445.454</td>\n",
       "    </tr>\n",
       "    <tr>\n",
       "      <th>min</th>\n",
       "      <td>0.000</td>\n",
       "      <td>0.000</td>\n",
       "      <td>0.000</td>\n",
       "      <td>1001.000</td>\n",
       "      <td>0.000</td>\n",
       "    </tr>\n",
       "    <tr>\n",
       "      <th>25%</th>\n",
       "      <td>62135.765</td>\n",
       "      <td>30000.000</td>\n",
       "      <td>0.000</td>\n",
       "      <td>8921.000</td>\n",
       "      <td>11000.000</td>\n",
       "    </tr>\n",
       "    <tr>\n",
       "      <th>50%</th>\n",
       "      <td>153000.000</td>\n",
       "      <td>91257.120</td>\n",
       "      <td>0.000</td>\n",
       "      <td>28024.000</td>\n",
       "      <td>68809.895</td>\n",
       "    </tr>\n",
       "    <tr>\n",
       "      <th>75%</th>\n",
       "      <td>271177.065</td>\n",
       "      <td>177478.680</td>\n",
       "      <td>40000.000</td>\n",
       "      <td>38390.000</td>\n",
       "      <td>138223.000</td>\n",
       "    </tr>\n",
       "    <tr>\n",
       "      <th>max</th>\n",
       "      <td>180000000.000</td>\n",
       "      <td>366426481.750</td>\n",
       "      <td>180000000.000</td>\n",
       "      <td>52006.000</td>\n",
       "      <td>12737000.000</td>\n",
       "    </tr>\n",
       "  </tbody>\n",
       "</table>\n",
       "</div>"
      ],
      "text/plain": [
       "      estimatedValue     debtAmount independentValuation postalCode  \\\n",
       "count       8512.000       7985.000             8512.000   8367.000   \n",
       "mean      315594.369     393721.769           137357.549  24834.215   \n",
       "std      2139440.671    5513261.843          2118014.959  14429.506   \n",
       "min            0.000          0.000                0.000   1001.000   \n",
       "25%        62135.765      30000.000                0.000   8921.000   \n",
       "50%       153000.000      91257.120                0.000  28024.000   \n",
       "75%       271177.065     177478.680            40000.000  38390.000   \n",
       "max    180000000.000  366426481.750        180000000.000  52006.000   \n",
       "\n",
       "             maxBid  \n",
       "count      8512.000  \n",
       "mean     128362.413  \n",
       "std      366445.454  \n",
       "min           0.000  \n",
       "25%       11000.000  \n",
       "50%       68809.895  \n",
       "75%      138223.000  \n",
       "max    12737000.000  "
      ]
     },
     "execution_count": 104,
     "metadata": {},
     "output_type": "execute_result"
    }
   ],
   "source": [
    "auctions.describe().apply(lambda s: s.apply(lambda x: '%.3f' % x))\n"
   ]
  },
  {
   "cell_type": "code",
   "execution_count": 105,
   "metadata": {},
   "outputs": [
    {
     "data": {
      "image/png": "[encoded data removed]",
      "text/plain": [
       "<Figure size 1440x1080 with 6 Axes>"
      ]
     },
     "metadata": {
      "needs_background": "light"
     },
     "output_type": "display_data"
    }
   ],
   "source": [
    "%matplotlib inline\n",
    "\n",
    "auctions.hist(bins=10, figsize=(20,15))\n",
    "plt.show()\n"
   ]
  },
  {
   "cell_type": "markdown",
   "metadata": {},
   "source": [
    "##### Some observations\n",
    "\n",
    "Seems we have the case of heavy tailing in most of the features. Concretely, has a high positive skewness.\n",
    "\n",
    "Regarding the Postal Code, might be interesting to turn it into longitute and latitude with a 3 decimal precission for both of them. This way we can turn it effectively into a continuous variable."
   ]
  },
  {
   "cell_type": "code",
   "execution_count": 106,
   "metadata": {},
   "outputs": [
    {
     "data": {
      "text/plain": [
       "<matplotlib.axes._subplots.AxesSubplot at 0x12adf0210>"
      ]
     },
     "execution_count": 106,
     "metadata": {},
     "output_type": "execute_result"
    },
    {
     "data": {
      "image/png": "[encoded data removed]",
      "text/plain": [
       "<Figure size 432x288 with 1 Axes>"
      ]
     },
     "metadata": {
      "needs_background": "light"
     },
     "output_type": "display_data"
    }
   ],
   "source": [
    "auctions.plot(kind=\"scatter\", x=\"estimatedValue\", y=\"debtAmount\", alpha=0.1)"
   ]
  },
  {
   "cell_type": "code",
   "execution_count": 107,
   "metadata": {},
   "outputs": [
    {
     "name": "stdout",
     "output_type": "stream",
     "text": [
      "This many samples with provided data for \"debtAmount\": 8494\n",
      "\n",
      "This many samples with provided data for \"estimatedValue\": 8340\n",
      "\n"
     ]
    }
   ],
   "source": [
    "estimatedValues = auctions[\"estimatedValue\"]\n",
    "debtAmounts = auctions[\"debtAmount\"]\n",
    "\n",
    "count_with_value_estimation = 0\n",
    "count_with_debt_amount = 0\n",
    "\n",
    "for e in estimatedValues:\n",
    "    if e != 0:\n",
    "        count_with_debt_amount += 1\n",
    "\n",
    "for e in debtAmounts:\n",
    "    if e != 0:\n",
    "        count_with_value_estimation += 1\n",
    "\n",
    "\n",
    "print(f'This many samples with provided data for \"debtAmount\": {count_with_debt_amount}\\n')\n",
    "\n",
    "print(f'This many samples with provided data for \"estimatedValue\": {count_with_value_estimation}\\n')"
   ]
  },
  {
   "cell_type": "code",
   "execution_count": 114,
   "metadata": {},
   "outputs": [
    {
     "data": {
      "text/plain": [
       "10000.0"
      ]
     },
     "execution_count": 114,
     "metadata": {},
     "output_type": "execute_result"
    }
   ],
   "source": [
    "auctions[\"estimatedValue\"].value_counts()"
   ]
  },
  {
   "cell_type": "code",
   "execution_count": 186,
   "metadata": {
    "scrolled": false
   },
   "outputs": [
    {
     "name": "stdout",
     "output_type": "stream",
     "text": [
      "{'10000-30000': 709, '0-10000': 760, '30000-50000': 396, '200000-250000': 888, '300000-400000': 684, '50000-100000': 1170, '150000-200000': 1034, '750000-1000000': 125, '100000-150000': 1131, '+1500000': 223, '250000-300000': 626, '500000-750000': 326, '1000000-1500000': 131, '400000-500000': 309}\n"
     ]
    }
   ],
   "source": [
    "ranges = [\n",
    "    0,\n",
    "    10000,\n",
    "    30000,\n",
    "    50000,\n",
    "    100000,\n",
    "    150000,\n",
    "    200000,\n",
    "    250000,\n",
    "    300000,\n",
    "    400000,\n",
    "    500000,\n",
    "    750000,\n",
    "    1000000,\n",
    "    1500000,\n",
    "]\n",
    "\n",
    "def distribution_with_given_ranges(feature, ranges):\n",
    "\n",
    "    distribution_by_ranges = {}\n",
    "\n",
    "    counter=0    \n",
    "\n",
    "    for e in feature:\n",
    "        counter += 1\n",
    "        for r_idx in range(0, len(ranges)):\n",
    "\n",
    "            if (r_idx == len(ranges)-1 and int(e) >= ranges[r_idx]):\n",
    "                key = f'+{ranges[r_idx]}'\n",
    "                distribution_by_ranges[key] = distribution_by_ranges.get(key, 0) + 1\n",
    "                break\n",
    "            if (int(e) in range(ranges[r_idx], ranges[r_idx + 1])):\n",
    "                key = f'{ranges[r_idx]}-{ranges[r_idx + 1]}'\n",
    "                distribution_by_ranges[key] = distribution_by_ranges.get(key, 0) + 1\n",
    "                break\n",
    "    return distribution_by_ranges\n",
    "        \n",
    "print(distribution_with_given_ranges(auctions[\"estimatedValue\"], ranges))\n"
   ]
  },
  {
   "cell_type": "code",
   "execution_count": 187,
   "metadata": {},
   "outputs": [
    {
     "data": {
      "text/plain": [
       "70.73160540465118"
      ]
     },
     "execution_count": 187,
     "metadata": {},
     "output_type": "execute_result"
    }
   ],
   "source": [
    "auctions[\"estimatedValue\"].skew()"
   ]
  },
  {
   "cell_type": "markdown",
   "metadata": {},
   "source": [
    "### Some observations on the previous data\n",
    "\n",
    "Turns out the data it's strongly skewed (positive skew). The purpose of this analysis, is detecting patterns in the auctions to use that intelligence to predict interesting auctions in the future.\n",
    "Given the outliers will be far from our reach in economic terms, the option choosen to get a more normal distribution would be to simply remove those outliers.\n",
    "Same will be done for the elements with a valuation of 0 given this is one of the most important properties in our dataset.\n",
    "\n",
    "<em>**Clarification**: We are talking about repossessed assets with valuations of 2/3 million +. Given that an average person doesn't use all his capital for this type of business, makes sense the decision of removing those elements falling above this threshold.</em>"
   ]
  },
  {
   "cell_type": "code",
   "execution_count": 260,
   "metadata": {},
   "outputs": [
    {
     "name": "stdout",
     "output_type": "stream",
     "text": [
      "7376\n",
      "7376\n"
     ]
    }
   ],
   "source": [
    "UPPER_THRESSHOLD = 1500000\n",
    "DEBT_RATIO_UPPER_THRESHOLD = 5\n",
    "\n",
    "auctions_copy = auctions.copy()\n",
    "\n",
    "auctions_copy.drop(\n",
    "    auctions_copy[\n",
    "        (auctions_copy[\"estimatedValue\"] > UPPER_THRESSHOLD) |\n",
    "        (auctions_copy[\"estimatedValue\"] == 0) |\n",
    "        (np.isnan(auctions_copy[\"debtAmount\"]) == True) |\n",
    "        (auctions_copy[\"debtAmount\"]/auctions_copy[\"estimatedValue\"] > DEBT_RATIO_UPPER_THRESHOLD)\n",
    "    ].index, inplace=True)\n",
    "\n",
    "print(len(auctions_copy[\"estimatedValue\"]))\n",
    "print(len(auctions_copy[\"debtAmount\"]))"
   ]
  },
  {
   "cell_type": "code",
   "execution_count": 261,
   "metadata": {},
   "outputs": [
    {
     "data": {
      "image/png": "[encoded data removed]",
      "text/plain": [
       "<Figure size 1440x1080 with 6 Axes>"
      ]
     },
     "metadata": {
      "needs_background": "light"
     },
     "output_type": "display_data"
    }
   ],
   "source": [
    "%matplotlib inline\n",
    "\n",
    "auctions_copy.hist(bins=10, figsize=(20,15))\n",
    "plt.show()\n"
   ]
  },
  {
   "cell_type": "code",
   "execution_count": 262,
   "metadata": {},
   "outputs": [
    {
     "name": "stdout",
     "output_type": "stream",
     "text": [
      "7376\n"
     ]
    }
   ],
   "source": [
    "print(len(auctions_copy[\"debtAmount\"]))\n"
   ]
  },
  {
   "cell_type": "code",
   "execution_count": null,
   "metadata": {},
   "outputs": [],
   "source": []
  },
  {
   "cell_type": "code",
   "execution_count": null,
   "metadata": {},
   "outputs": [],
   "source": []
  }
 ],
 "metadata": {
  "kernelspec": {
   "display_name": "Python 3",
   "language": "python",
   "name": "python3"
  },
  "language_info": {
   "codemirror_mode": {
    "name": "ipython",
    "version": 3
   },
   "file_extension": ".py",
   "mimetype": "text/x-python",
   "name": "python",
   "nbconvert_exporter": "python",
   "pygments_lexer": "ipython3",
   "version": "3.7.6"
  }
 },
 "nbformat": 4,
 "nbformat_minor": 2
}
